{
 "cells": [
  {
   "cell_type": "code",
   "execution_count": 61,
   "metadata": {},
   "outputs": [],
   "source": [
    "import pymongo\n",
    "\n",
    "# Connect to the MongoDB server\n",
    "client = pymongo.MongoClient(\"mongodb://localhost:27017/\")\n",
    "\n",
    "# Create or access a database\n",
    "db = client[\"country\"]\n"
   ]
  },
  {
   "cell_type": "code",
   "execution_count": 62,
   "metadata": {},
   "outputs": [
    {
     "name": "stdout",
     "output_type": "stream",
     "text": [
      "Database created successfully!\n"
     ]
    }
   ],
   "source": [
    "# Creating a database (it will only be created when we add a collection)\n",
    "db = client[\"country\"]\n",
    "print(\"Database created successfully!\")\n"
   ]
  },
  {
   "cell_type": "code",
   "execution_count": 63,
   "metadata": {},
   "outputs": [
    {
     "name": "stdout",
     "output_type": "stream",
     "text": [
      "Collection created successfully!\n"
     ]
    }
   ],
   "source": [
    "# Creating a collection (table)\n",
    "students = db[\"students\"]\n",
    "print(\"Collection created successfully!\")\n"
   ]
  },
  {
   "cell_type": "code",
   "execution_count": 64,
   "metadata": {},
   "outputs": [
    {
     "name": "stdout",
     "output_type": "stream",
     "text": [
      "Data inserted successfully!\n"
     ]
    }
   ],
   "source": [
    "# Insert a single document (record)\n",
    "student_data = {\n",
    "    \"name\": \"John Doe\",\n",
    "    \"age\": 21,\n",
    "    \"department\": \"Computer Science\"\n",
    "}\n",
    "students.insert_one(student_data)\n",
    "\n",
    "# Insert multiple documents\n",
    "students.insert_many([\n",
    "    {\"name\": \"Alice\", \"age\": 22, \"department\": \"AI\"},\n",
    "    {\"name\": \"Bob\", \"age\": 20, \"department\": \"Data Science\"}\n",
    "])\n",
    "print(\"Data inserted successfully!\")\n"
   ]
  },
  {
   "cell_type": "code",
   "execution_count": 65,
   "metadata": {},
   "outputs": [
    {
     "name": "stdout",
     "output_type": "stream",
     "text": [
      "{'_id': ObjectId('679b9add4fd493a63bec0caf'), 'name': 'John Doe', 'age': 21, 'department': 'Computer Science'}\n",
      "{'_id': ObjectId('679b9ade4fd493a63bec0cb0'), 'name': 'Alice', 'age': 22, 'department': 'AI'}\n",
      "{'_id': ObjectId('679b9ade4fd493a63bec0cb1'), 'name': 'Bob', 'age': 20, 'department': 'Data Science'}\n"
     ]
    }
   ],
   "source": [
    "# Retrieve all documents\n",
    "for student in students.find():\n",
    "    print(student)\n",
    "\n"
   ]
  },
  {
   "cell_type": "code",
   "execution_count": 66,
   "metadata": {},
   "outputs": [
    {
     "name": "stdout",
     "output_type": "stream",
     "text": [
      "{'name': 'John Doe', 'department': 'Computer Science'}\n",
      "{'name': 'Alice', 'department': 'AI'}\n",
      "{'name': 'Bob', 'department': 'Data Science'}\n"
     ]
    }
   ],
   "source": [
    "# Retrieve specific fields\n",
    "for student in students.find({}, {\"_id\": 0, \"name\": 1, \"department\": 1}):\n",
    "    print(student)"
   ]
  },
  {
   "cell_type": "code",
   "execution_count": 67,
   "metadata": {},
   "outputs": [
    {
     "name": "stdout",
     "output_type": "stream",
     "text": [
      "{'name': 'John Doe', 'department': 'Computer Science'}\n"
     ]
    }
   ],
   "source": [
    "# print single record\n",
    "student = students.find_one({}, {\"_id\": 0, \"name\": 1, \"department\": 1})\n",
    "print(student)\n"
   ]
  },
  {
   "cell_type": "code",
   "execution_count": 68,
   "metadata": {},
   "outputs": [
    {
     "name": "stdout",
     "output_type": "stream",
     "text": [
      "{'_id': ObjectId('679b9ade4fd493a63bec0cb1'), 'name': 'Bob', 'age': 20, 'department': 'Data Science'}\n"
     ]
    }
   ],
   "source": [
    "# Skip the first 2 records and retrieve the third one\n",
    "third_student = students.find().skip(2).limit(1)\n",
    "for student in third_student:\n",
    "    print(student)\n"
   ]
  },
  {
   "cell_type": "code",
   "execution_count": 69,
   "metadata": {},
   "outputs": [
    {
     "name": "stdout",
     "output_type": "stream",
     "text": [
      "{'_id': ObjectId('679b9add4fd493a63bec0caf'), 'name': 'John Doe', 'age': 21, 'department': 'Computer Science'}\n"
     ]
    }
   ],
   "source": [
    "# Find all students, sort by the \"name\" field, skip the first 2 records, and limit the result to the third one\n",
    "third_student = students.find().sort(\"name\").skip(2).limit(1)\n",
    "\n",
    "# Loop through the cursor and print the third record (since limit(1) is used, it will only return one document)\n",
    "for student in third_student:\n",
    "    print(student)\n"
   ]
  },
  {
   "cell_type": "code",
   "execution_count": 70,
   "metadata": {},
   "outputs": [
    {
     "name": "stdout",
     "output_type": "stream",
     "text": [
      "{'_id': ObjectId('679b9add4fd493a63bec0caf'), 'name': 'John Doe', 'age': 21, 'department': 'Computer Science'}\n",
      "{'_id': ObjectId('679b9ade4fd493a63bec0cb0'), 'name': 'Alice', 'age': 22, 'department': 'AI'}\n"
     ]
    }
   ],
   "source": [
    "# Find students older than 20\n",
    "for student in students.find({\"age\": {\"$gt\": 20}}):\n",
    "    print(student)\n"
   ]
  },
  {
   "cell_type": "code",
   "execution_count": 71,
   "metadata": {},
   "outputs": [
    {
     "name": "stdout",
     "output_type": "stream",
     "text": [
      "{'_id': ObjectId('679b9ade4fd493a63bec0cb0'), 'name': 'Alice', 'age': 22, 'department': 'AI'}\n"
     ]
    }
   ],
   "source": [
    "# Find students whose age is equal to 22\n",
    "for student in students.find({\"age\": {\"$eq\": 22}}):\n",
    "    print(student)\n"
   ]
  },
  {
   "cell_type": "code",
   "execution_count": 72,
   "metadata": {},
   "outputs": [
    {
     "name": "stdout",
     "output_type": "stream",
     "text": [
      "{'_id': ObjectId('679b9add4fd493a63bec0caf'), 'name': 'John Doe', 'age': 21, 'department': 'Computer Science'}\n",
      "{'_id': ObjectId('679b9ade4fd493a63bec0cb1'), 'name': 'Bob', 'age': 20, 'department': 'Data Science'}\n"
     ]
    }
   ],
   "source": [
    "# Find students whose age is less than 20\n",
    "for student in students.find({\"age\": {\"$lt\": 22}}):\n",
    "    print(student)\n"
   ]
  },
  {
   "cell_type": "code",
   "execution_count": 73,
   "metadata": {},
   "outputs": [
    {
     "name": "stdout",
     "output_type": "stream",
     "text": [
      "{'_id': ObjectId('679b9ade4fd493a63bec0cb1'), 'name': 'Bob', 'age': 20, 'department': 'Data Science'}\n",
      "{'_id': ObjectId('679b9add4fd493a63bec0caf'), 'name': 'John Doe', 'age': 21, 'department': 'Computer Science'}\n",
      "{'_id': ObjectId('679b9ade4fd493a63bec0cb0'), 'name': 'Alice', 'age': 22, 'department': 'AI'}\n"
     ]
    }
   ],
   "source": [
    "# Sort by age in ascending order\n",
    "for student in students.find().sort(\"age\", 1):\n",
    "    print(student)\n",
    "\n"
   ]
  },
  {
   "cell_type": "code",
   "execution_count": 74,
   "metadata": {},
   "outputs": [
    {
     "name": "stdout",
     "output_type": "stream",
     "text": [
      "{'_id': ObjectId('679b9ade4fd493a63bec0cb0'), 'name': 'Alice', 'age': 22, 'department': 'AI'}\n",
      "{'_id': ObjectId('679b9add4fd493a63bec0caf'), 'name': 'John Doe', 'age': 21, 'department': 'Computer Science'}\n",
      "{'_id': ObjectId('679b9ade4fd493a63bec0cb1'), 'name': 'Bob', 'age': 20, 'department': 'Data Science'}\n"
     ]
    }
   ],
   "source": [
    "\n",
    "# Sort by age in descending order\n",
    "for student in students.find().sort(\"age\", -1):\n",
    "    print(student)"
   ]
  },
  {
   "cell_type": "code",
   "execution_count": 75,
   "metadata": {},
   "outputs": [],
   "source": [
    "# # Drop a collection\n",
    "# students.drop()\n",
    "# print(\"Collection dropped successfully!\")\n"
   ]
  },
  {
   "cell_type": "code",
   "execution_count": 77,
   "metadata": {},
   "outputs": [
    {
     "data": {
      "text/plain": [
       "UpdateResult({'n': 1, 'nModified': 1, 'ok': 1.0, 'updatedExisting': True}, acknowledged=True)"
      ]
     },
     "execution_count": 77,
     "metadata": {},
     "output_type": "execute_result"
    }
   ],
   "source": [
    "# Update a single document\n",
    "students.update_one({\"name\": \"John Doe\"}, {\"$set\": {\"age\": 23}})\n"
   ]
  },
  {
   "cell_type": "code",
   "execution_count": 78,
   "metadata": {},
   "outputs": [
    {
     "data": {
      "text/plain": [
       "UpdateResult({'n': 1, 'nModified': 1, 'ok': 1.0, 'updatedExisting': True}, acknowledged=True)"
      ]
     },
     "execution_count": 78,
     "metadata": {},
     "output_type": "execute_result"
    }
   ],
   "source": [
    "# Update multiple documents\n",
    "students.update_many({\"department\": \"Computer Science\"}, {\"$set\": {\"department\": \"CS\"}})"
   ]
  },
  {
   "cell_type": "code",
   "execution_count": 81,
   "metadata": {},
   "outputs": [
    {
     "name": "stdout",
     "output_type": "stream",
     "text": [
      "{'_id': ObjectId('679b9add4fd493a63bec0caf'), 'name': 'John Doe', 'age': 23, 'department': 'CS'}\n",
      "{'_id': ObjectId('679b9ade4fd493a63bec0cb0'), 'name': 'Alice', 'age': 22, 'department': 'AI'}\n"
     ]
    }
   ],
   "source": [
    "# LIMITS\n",
    "# Retrieve only 2 documents\n",
    "for student in students.find().limit(2):\n",
    "    print(student)\n"
   ]
  },
  {
   "cell_type": "code",
   "execution_count": 82,
   "metadata": {},
   "outputs": [
    {
     "name": "stdout",
     "output_type": "stream",
     "text": [
      "{'_id': ObjectId('679b9add4fd493a63bec0caf'), 'name': 'John Doe', 'age': 23, 'department': 'CS', 'enrolled_courses': []}\n",
      "{'_id': ObjectId('679b9ade4fd493a63bec0cb0'), 'name': 'Alice', 'age': 22, 'department': 'AI', 'enrolled_courses': []}\n",
      "{'_id': ObjectId('679b9ade4fd493a63bec0cb1'), 'name': 'Bob', 'age': 20, 'department': 'Data Science', 'enrolled_courses': []}\n"
     ]
    }
   ],
   "source": [
    "# JOIN \n",
    "# Creating another collection for demonstration\n",
    "courses = db[\"courses\"]\n",
    "courses.insert_many([\n",
    "    {\"student_name\": \"John Doe\", \"course\": \"Database Systems\"},\n",
    "    {\"student_name\": \"Alice\", \"course\": \"Machine Learning\"}\n",
    "])\n",
    "\n",
    "# Aggregation with $lookup (Joining students with courses)\n",
    "result = students.aggregate([\n",
    "    {\n",
    "        \"$lookup\": {\n",
    "            \"from\": \"courses\",\n",
    "            \"localField\": \"name\",\n",
    "            \"foreignField\": \"student_name\",\n",
    "            \"as\": \"enrolled_courses\"\n",
    "        }\n",
    "    }\n",
    "])\n",
    "\n",
    "for doc in result:\n",
    "    print(doc)\n"
   ]
  },
  {
   "cell_type": "code",
   "execution_count": 76,
   "metadata": {},
   "outputs": [
    {
     "name": "stdout",
     "output_type": "stream",
     "text": [
      "['admin', 'config', 'country', 'kigali', 'local', 'university']\n",
      "['class']\n"
     ]
    }
   ],
   "source": [
    "import pymongo\n",
    "\n",
    "# Connect to MongoDB\n",
    "client = pymongo.MongoClient(\"mongodb://localhost:27017/\")\n",
    "\n",
    "# Access the database\n",
    "db = client[\"university\"]\n",
    "\n",
    "# Create a collection and insert a sample document\n",
    "level = db[\"class\"]\n",
    "level.insert_one({\"name\": \"Level7\", \"department\": \"IT\"})\n",
    "\n",
    "# Now check the database and collection names\n",
    "print(client.list_database_names())  # \"university\" should now appear\n",
    "print(db.list_collection_names())  # \"class\" should now appear\n"
   ]
  },
  {
   "cell_type": "code",
   "execution_count": null,
   "metadata": {},
   "outputs": [],
   "source": []
  }
 ],
 "metadata": {
  "kernelspec": {
   "display_name": "Python 3",
   "language": "python",
   "name": "python3"
  },
  "language_info": {
   "codemirror_mode": {
    "name": "ipython",
    "version": 3
   },
   "file_extension": ".py",
   "mimetype": "text/x-python",
   "name": "python",
   "nbconvert_exporter": "python",
   "pygments_lexer": "ipython3",
   "version": "3.13.1"
  }
 },
 "nbformat": 4,
 "nbformat_minor": 2
}
