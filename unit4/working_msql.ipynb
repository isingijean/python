{
 "cells": [
  {
   "cell_type": "code",
   "execution_count": 243,
   "metadata": {},
   "outputs": [
    {
     "name": "stdout",
     "output_type": "stream",
     "text": [
      "MySQL Connector is working!\n"
     ]
    }
   ],
   "source": [
    "import mysql.connector\n",
    "print(\"MySQL Connector is working!\")"
   ]
  },
  {
   "cell_type": "code",
   "execution_count": 244,
   "metadata": {},
   "outputs": [
    {
     "name": "stdout",
     "output_type": "stream",
     "text": [
      "Failed to create database called: university_db\n"
     ]
    }
   ],
   "source": [
    "# DATABASE CREATION\n",
    "import mysql.connector\n",
    "conn = mysql.connector.connect(host=\"localhost\", user=\"root\", password=\"\")\n",
    "cursor = conn.cursor()\n",
    "my_db = \"university_db\"\n",
    "try:\n",
    "    cursor.execute(f\"CREATE DATABASE {my_db} \")\n",
    "    print(\"Database created successfully!\")\n",
    "except:\n",
    "    print(f\"Failed to create database called: {my_db}\")\n",
    "    \n",
    "# cursor.close()\n",
    "# conn.close()\n"
   ]
  },
  {
   "cell_type": "code",
   "execution_count": 245,
   "metadata": {},
   "outputs": [],
   "source": [
    "# REUSABLE LINE FOR CONNECTION OF DB AND ITS TABLES\n",
    "my_db=\"university_db\"\n",
    "table = \"students\"\n",
    "conn = mysql.connector.connect(host=\"localhost\", user=\"root\", password=\"\", database=my_db)\n",
    "cursor = conn.cursor()"
   ]
  },
  {
   "cell_type": "code",
   "execution_count": 246,
   "metadata": {},
   "outputs": [
    {
     "name": "stdout",
     "output_type": "stream",
     "text": [
      "failed to create a table: students\n"
     ]
    }
   ],
   "source": [
    "# conn = mysql.connector.connect(host=\"localhost\", user=\"root\", password=\"\", database=my_db)\n",
    "# cursor = conn.cursor()\n",
    "# table= \"students\"\n",
    "try:\n",
    "    \n",
    "    cursor.execute(f\"\"\"\n",
    "    CREATE TABLE {table} (\n",
    "    id INT AUTO_INCREMENT PRIMARY KEY,\n",
    "    name VARCHAR(255),\n",
    "    age INT,\n",
    "    major VARCHAR(100)\n",
    "    )\n",
    "    \"\"\")\n",
    "    print(f\"{table} Table created successfully!\")\n",
    "except:\n",
    "    print(f'failed to create a table: {table}')\n",
    "\n",
    "\n",
    "# cursor.close()\n",
    "# conn.close()\n"
   ]
  },
  {
   "cell_type": "code",
   "execution_count": 247,
   "metadata": {},
   "outputs": [
    {
     "name": "stdout",
     "output_type": "stream",
     "text": [
      "failed to create a table: students\n"
     ]
    }
   ],
   "source": [
    "# conn = mysql.connector.connect(host=\"localhost\", user=\"root\", password=\"\", database=my_db)\n",
    "# cursor = conn.cursor()\n",
    "# table= \"student\"\n",
    "try: \n",
    "    cursor.execute(f\"\"\"\n",
    "    CREATE TABLE {table} (\n",
    "    id INT AUTO_INCREMENT PRIMARY KEY,\n",
    "    name VARCHAR(255),\n",
    "    age INT,\n",
    "    major VARCHAR(100)\n",
    "    )\n",
    "    \"\"\")\n",
    "    if table == \"\":\n",
    "        print(f\"{table} Table created successfully!\")        \n",
    "    else:\n",
    "       print(f'table {table} already exist')\n",
    "except:\n",
    "    print(f'failed to create a table: {table}')\n",
    "\n",
    "\n",
    "# cursor.close()\n",
    "# conn.close()\n"
   ]
  },
  {
   "cell_type": "code",
   "execution_count": 248,
   "metadata": {},
   "outputs": [
    {
     "name": "stdout",
     "output_type": "stream",
     "text": [
      "1 New students Record Inserted Successfully!\n"
     ]
    }
   ],
   "source": [
    "# INSERT DATA INTO MYSQL TABLE\n",
    "try:\n",
    "    sql = f\"INSERT INTO {table} (name, age, major) VALUES (%s, %s, %s)\"\n",
    "    values = (\"KALISA Emmy\", 30, \"Civil Engineeriing\")\n",
    "    # values = (\"Abimana Afssa\", 27, \"Electronics\")\n",
    "    cursor.execute(sql,values)\n",
    "    conn.commit() # SAVE THE CHANGE INTO TABLE\n",
    "    print(cursor.rowcount, f\"New {table} Record Inserted Successfully!\")\n",
    "except:\n",
    "    print(f\"Failed to insert {table} data\")\n"
   ]
  },
  {
   "cell_type": "code",
   "execution_count": 249,
   "metadata": {},
   "outputs": [
    {
     "name": "stdout",
     "output_type": "stream",
     "text": [
      "(1, 'UMUHOZA Ketia', 30, 'IT')\n",
      "(2, 'UWIMANA MUHIRE', 22, 'CS')\n",
      "(5, 'KALISA Emmy', 33, 'Civil Engineeriing')\n",
      "(7, 'Abimana Afssa', 35, 'Electronics')\n",
      "(8, 'KALISA Emmy', 30, 'Civil Engineeriing')\n",
      "(9, 'KALISA Emmy', 30, 'Civil Engineeriing')\n",
      "(10, 'KALISA Emmy', 30, 'Civil Engineeriing')\n"
     ]
    }
   ],
   "source": [
    "# SELECT DATA FROM MYSQL\n",
    "# cursor = conn.cursor()\n",
    "try:\n",
    "    cursor.execute(f\"\"\" SELECT * FROM {table} \"\"\")\n",
    "    result = cursor.fetchall()\n",
    "    for row in result:  \n",
    "        print(f\"{row}\") \n",
    "except:\n",
    "    print(f\"failed to fetch records from {table} table\")  \n",
    "    \n",
    "# cursor.close()\n",
    "# conn.close()"
   ]
  },
  {
   "cell_type": "code",
   "execution_count": 250,
   "metadata": {},
   "outputs": [
    {
     "name": "stdout",
     "output_type": "stream",
     "text": [
      "0, Record Deleted from students table successfully!\n"
     ]
    }
   ],
   "source": [
    "# DELETE A RECORD FROM TABLE\n",
    "try:\n",
    "    cursor.execute(f\"\"\" DELETE FROM {table} WHERE id=6\"\"\")\n",
    "    conn.commit()# save changes\n",
    "    print(f'{cursor.rowcount}, Record Deleted from {table} table successfully!')\n",
    "\n",
    "except:\n",
    "    print(f\"failed to delete records from {table} table\")  \n",
    "    "
   ]
  },
  {
   "cell_type": "code",
   "execution_count": 251,
   "metadata": {},
   "outputs": [
    {
     "name": "stdout",
     "output_type": "stream",
     "text": [
      "(1, 'UMUHOZA Ketia', 30, 'IT')\n",
      "(2, 'UWIMANA MUHIRE', 22, 'CS')\n",
      "(5, 'KALISA Emmy', 33, 'Civil Engineeriing')\n",
      "(7, 'Abimana Afssa', 35, 'Electronics')\n",
      "(8, 'KALISA Emmy', 30, 'Civil Engineeriing')\n",
      "(9, 'KALISA Emmy', 30, 'Civil Engineeriing')\n",
      "(10, 'KALISA Emmy', 30, 'Civil Engineeriing')\n"
     ]
    }
   ],
   "source": [
    "# WHERE CONDITION\n",
    "try:\n",
    "    cursor.execute(f\"SELECT * FROM {table} WHERE age >= 21\")\n",
    "    result = cursor.fetchall()\n",
    "    for row in result:\n",
    "        print(row)\n",
    "except:\n",
    "    print(f\"Failed to Fetch Record from {table} Table\")"
   ]
  },
  {
   "cell_type": "code",
   "execution_count": 252,
   "metadata": {},
   "outputs": [
    {
     "name": "stdout",
     "output_type": "stream",
     "text": [
      "(7, 'Abimana Afssa', 35, 'Electronics')\n",
      "(5, 'KALISA Emmy', 33, 'Civil Engineeriing')\n",
      "(8, 'KALISA Emmy', 30, 'Civil Engineeriing')\n",
      "(9, 'KALISA Emmy', 30, 'Civil Engineeriing')\n",
      "(10, 'KALISA Emmy', 30, 'Civil Engineeriing')\n",
      "(1, 'UMUHOZA Ketia', 30, 'IT')\n",
      "(2, 'UWIMANA MUHIRE', 22, 'CS')\n"
     ]
    }
   ],
   "source": [
    "# ORDER BY CONDITION\n",
    "try:\n",
    "    cursor.execute(f\"SELECT * FROM {table} ORDER BY name ASC\")\n",
    "    result = cursor.fetchall()\n",
    "    for row in result:\n",
    "        print(row)\n",
    "except:\n",
    "    print(f\"Failed to Fetch Record from {table} Table\")"
   ]
  },
  {
   "cell_type": "code",
   "execution_count": 253,
   "metadata": {},
   "outputs": [
    {
     "name": "stdout",
     "output_type": "stream",
     "text": [
      "Failed to Drop class Table\n"
     ]
    }
   ],
   "source": [
    "# DROP TABLE\n",
    "# CREATE NEW TABLE MANUALLY FROM MYSQL THEN DEFINE IT IN ORDER TO DROP IT\n",
    "# IT'S BECAUSE I DON'T WANT TO DROP MY WORKING TABLE\n",
    "drop_table = \"class\"\n",
    "try:\n",
    "    cursor.execute(f\"DROP TABLE {drop_table}\")\n",
    "    print(f\"Table {drop_table} has dropped!\")\n",
    "except:\n",
    "    print(f\"Failed to Drop {drop_table} Table\")"
   ]
  },
  {
   "cell_type": "code",
   "execution_count": 254,
   "metadata": {},
   "outputs": [
    {
     "name": "stdout",
     "output_type": "stream",
     "text": [
      "(5, 'KALISA Emmy', 33, 'Civil Engineeriing')\n",
      "----------------------------------------------------------------------------------------------------\n",
      "0, Record with ID=5 Updated Successfully!\n",
      "----------------------------------------------------------------------------------------------------\n",
      "(5, 'KALISA Emmy', 33, 'Civil Engineeriing')\n"
     ]
    }
   ],
   "source": [
    "# UPDATE TABLE\n",
    "try:\n",
    "    # BEFORE UPDATE\n",
    "    cursor.execute(f\"SELECT * FROM {table} WHERE id = 5\")\n",
    "    result = cursor.fetchall()\n",
    "    for row in result:\n",
    "        print(row)\n",
    "    print(f\"----------\" * 10)\n",
    "    # DURING UPDATED\n",
    "    cursor.execute(f\"UPDATE {table} SET age = 33 WHERE id = 5\")\n",
    "    conn.commit()# save changes    \n",
    "    print(f\"{cursor.rowcount}, Record with ID=5 Updated Successfully!\")    \n",
    "    # AFTER UPDATE\n",
    "    print(f\"----------\" * 10)\n",
    "    # Display Updated data\n",
    "    cursor.execute(f\"SELECT * FROM {table} WHERE id = 5\")\n",
    "    result = cursor.fetchall()\n",
    "    for row in result:\n",
    "        print(row)\n",
    "except:\n",
    "    print(f\"Failed to Update a Record from {table} Table\")"
   ]
  },
  {
   "cell_type": "code",
   "execution_count": 255,
   "metadata": {},
   "outputs": [
    {
     "name": "stdout",
     "output_type": "stream",
     "text": [
      "------BEFORE LIMIT----------BEFORE LIMIT----------BEFORE LIMIT----\n",
      "\n",
      "\n",
      "(1, 'UMUHOZA Ketia', 30, 'IT')\n",
      "(2, 'UWIMANA MUHIRE', 22, 'CS')\n",
      "(5, 'KALISA Emmy', 33, 'Civil Engineeriing')\n",
      "(7, 'Abimana Afssa', 35, 'Electronics')\n",
      "(8, 'KALISA Emmy', 30, 'Civil Engineeriing')\n",
      "(9, 'KALISA Emmy', 30, 'Civil Engineeriing')\n",
      "(10, 'KALISA Emmy', 30, 'Civil Engineeriing')\n",
      "\n",
      "\n",
      "------AFTER LIMIT----------AFTER LIMIT----------AFTER LIMIT----\n",
      "\n",
      "\n",
      "(1, 'UMUHOZA Ketia', 30, 'IT')\n",
      "(2, 'UWIMANA MUHIRE', 22, 'CS')\n"
     ]
    }
   ],
   "source": [
    "# LIMIT RESULTS TO BE DISPLAYED\n",
    "try:\n",
    "    # BEFORE LIMIT\n",
    "    print(f\"------BEFORE LIMIT----\" * 3) \n",
    "    print(\"\\n\")\n",
    "    cursor.execute(f\"SELECT * FROM {table}\")\n",
    "    result = cursor.fetchall()\n",
    "    for row in result:\n",
    "        print(row)\n",
    "    #  AFTER LIMIT \n",
    "    print(\"\\n\")\n",
    "    print(f\"------AFTER LIMIT----\" * 3)  \n",
    "    print(\"\\n\")\n",
    "    cursor.execute(f\"SELECT * FROM {table} LIMIT 2\")\n",
    "    result = cursor.fetchall()\n",
    "    for row in result:\n",
    "        print(row)\n",
    "except:\n",
    "    print(f\"Failed to Fetch Record from {table} Table\")"
   ]
  },
  {
   "cell_type": "code",
   "execution_count": null,
   "metadata": {},
   "outputs": [
    {
     "name": "stdout",
     "output_type": "stream",
     "text": [
      "------before JOIN----------before JOIN----------before JOIN----\n",
      "\n",
      "\n",
      "------STUDENTS DATA----------STUDENTS DATA----------STUDENTS DATA----\n",
      "\n",
      "\n",
      "(1, 'UMUHOZA Ketia', 30, 'IT')\n",
      "(2, 'UWIMANA MUHIRE', 22, 'CS')\n",
      "(5, 'KALISA Emmy', 33, 'Civil Engineeriing')\n",
      "(7, 'Abimana Afssa', 35, 'Electronics')\n",
      "(8, 'KALISA Emmy', 30, 'Civil Engineeriing')\n",
      "(9, 'KALISA Emmy', 30, 'Civil Engineeriing')\n",
      "(10, 'KALISA Emmy', 30, 'Civil Engineeriing')\n",
      "\n",
      "\n",
      "------COURSES DATA----------COURSES DATA----------COURSES DATA----\n",
      "\n",
      "\n",
      "(1, 'Python', 7)\n",
      "(2, 'Advanced Web', 1)\n",
      "\n",
      "\n",
      "------AFTER JOIN----------AFTER JOIN----------AFTER JOIN----\n",
      "\n",
      "\n",
      "('Abimana Afssa', 35, 'Electronics', 'Python')\n",
      "('UMUHOZA Ketia', 30, 'IT', 'Advanced Web')\n"
     ]
    }
   ],
   "source": [
    "# JOIN TABLES\n",
    "course_table = \"courses\"\n",
    "try:\n",
    "    # BEFORE JOIN\n",
    "    print(f\"------before JOIN----\" * 3) \n",
    "    print(\"\\n\")\n",
    "    print(f\"------STUDENTS DATA----\" * 3) \n",
    "    print(\"\\n\")\n",
    "    cursor.execute(f\"SELECT * FROM {table}\")\n",
    "    result = cursor.fetchall()\n",
    "    for row in result:\n",
    "        print(row)\n",
    "    print(\"\\n\")\n",
    "    print(f\"------COURSES DATA----\" * 3) \n",
    "    print(\"\\n\")\n",
    "    cursor.execute(f\"SELECT * FROM {course_table}\")\n",
    "    result = cursor.fetchall()\n",
    "    for row in result:\n",
    "        print(row)\n",
    "        \n",
    "    # ===================================JOIN PART=================================================\n",
    "    #  AFTER JOIN \n",
    "    print(\"\\n\")\n",
    "    print(f\"------AFTER JOIN----\" * 3)  \n",
    "    print(\"\\n\")\n",
    "    cursor.execute(f\"\"\"SELECT {table}.name, {table}.age, {table}.major, {course_table}.cname \n",
    "                   FROM {table} JOIN courses ON {table}.id = {course_table}.sid\"\"\")\n",
    "    result = cursor.fetchall()\n",
    "    for row in result:\n",
    "        print(row)\n",
    "except:\n",
    "    print(f\"Failed to Fetch Record from {table} Table\")"
   ]
  },
  {
   "cell_type": "code",
   "execution_count": null,
   "metadata": {},
   "outputs": [],
   "source": []
  }
 ],
 "metadata": {
  "kernelspec": {
   "display_name": "Python 3",
   "language": "python",
   "name": "python3"
  },
  "language_info": {
   "codemirror_mode": {
    "name": "ipython",
    "version": 3
   },
   "file_extension": ".py",
   "mimetype": "text/x-python",
   "name": "python",
   "nbconvert_exporter": "python",
   "pygments_lexer": "ipython3",
   "version": "3.13.1"
  }
 },
 "nbformat": 4,
 "nbformat_minor": 2
}
