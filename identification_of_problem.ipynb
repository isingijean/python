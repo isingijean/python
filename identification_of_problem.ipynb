{
 "cells": [
  {
   "cell_type": "markdown",
   "metadata": {},
   "source": [
    "HR added unwanted feature called heart rate during employee registration.\n",
    "Please prepare your own employee dataset with those feature (Name, Age, Salary, heart rate payment status) \n",
    "add 20 random records from after dataset preparation keep it in data frame drop heart rate feature then store \n",
    "final dataset into csv file.\n"
   ]
  },
  {
   "cell_type": "code",
   "execution_count": 4,
   "metadata": {},
   "outputs": [
    {
     "data": {
      "text/html": [
       "<div>\n",
       "<style scoped>\n",
       "    .dataframe tbody tr th:only-of-type {\n",
       "        vertical-align: middle;\n",
       "    }\n",
       "\n",
       "    .dataframe tbody tr th {\n",
       "        vertical-align: top;\n",
       "    }\n",
       "\n",
       "    .dataframe thead th {\n",
       "        text-align: right;\n",
       "    }\n",
       "</style>\n",
       "<table border=\"1\" class=\"dataframe\">\n",
       "  <thead>\n",
       "    <tr style=\"text-align: right;\">\n",
       "      <th></th>\n",
       "      <th>Name</th>\n",
       "      <th>Age</th>\n",
       "      <th>Salary</th>\n",
       "      <th>Heart Rate</th>\n",
       "      <th>Payment Status</th>\n",
       "    </tr>\n",
       "  </thead>\n",
       "  <tbody>\n",
       "    <tr>\n",
       "      <th>0</th>\n",
       "      <td>Employee_1</td>\n",
       "      <td>44</td>\n",
       "      <td>80864</td>\n",
       "      <td>80</td>\n",
       "      <td>Unpaid</td>\n",
       "    </tr>\n",
       "    <tr>\n",
       "      <th>1</th>\n",
       "      <td>Employee_2</td>\n",
       "      <td>36</td>\n",
       "      <td>71214</td>\n",
       "      <td>60</td>\n",
       "      <td>Unpaid</td>\n",
       "    </tr>\n",
       "    <tr>\n",
       "      <th>2</th>\n",
       "      <td>Employee_3</td>\n",
       "      <td>56</td>\n",
       "      <td>30623</td>\n",
       "      <td>82</td>\n",
       "      <td>Paid</td>\n",
       "    </tr>\n",
       "    <tr>\n",
       "      <th>3</th>\n",
       "      <td>Employee_4</td>\n",
       "      <td>30</td>\n",
       "      <td>33858</td>\n",
       "      <td>63</td>\n",
       "      <td>Unpaid</td>\n",
       "    </tr>\n",
       "    <tr>\n",
       "      <th>4</th>\n",
       "      <td>Employee_5</td>\n",
       "      <td>35</td>\n",
       "      <td>40166</td>\n",
       "      <td>80</td>\n",
       "      <td>Paid</td>\n",
       "    </tr>\n",
       "  </tbody>\n",
       "</table>\n",
       "</div>"
      ],
      "text/plain": [
       "         Name  Age  Salary  Heart Rate Payment Status\n",
       "0  Employee_1   44   80864          80         Unpaid\n",
       "1  Employee_2   36   71214          60         Unpaid\n",
       "2  Employee_3   56   30623          82           Paid\n",
       "3  Employee_4   30   33858          63         Unpaid\n",
       "4  Employee_5   35   40166          80           Paid"
      ]
     },
     "execution_count": 4,
     "metadata": {},
     "output_type": "execute_result"
    }
   ],
   "source": [
    "import pandas as pd\n",
    "import random\n",
    "# Prepare a dataset with the features: Name, Age, Salary, Heart Rate, Payment Status\n",
    "data = {\n",
    "    \"Name\": [f\"Employee_{i}\" for i in range(1, 21)],\n",
    "    \"Age\": [random.randint(20, 60) for _ in range(20)],\n",
    "    \"Salary\": [random.randint(30000, 100000) for _ in range(20)],\n",
    "    \"Heart Rate\": [random.randint(60, 100) for _ in range(20)],\n",
    "    \"Payment Status\": [random.choice([\"Paid\", \"Unpaid\"]) for _ in range(20)]\n",
    "}\n",
    "\n",
    "# Create DataFrame\n",
    "df = pd.DataFrame(data)\n",
    "df.head()\n",
    "\n"
   ]
  },
  {
   "cell_type": "code",
   "execution_count": 6,
   "metadata": {},
   "outputs": [
    {
     "name": "stdout",
     "output_type": "stream",
     "text": [
      "Dataset saved to employee_dataset.csv\n"
     ]
    },
    {
     "data": {
      "text/html": [
       "<div>\n",
       "<style scoped>\n",
       "    .dataframe tbody tr th:only-of-type {\n",
       "        vertical-align: middle;\n",
       "    }\n",
       "\n",
       "    .dataframe tbody tr th {\n",
       "        vertical-align: top;\n",
       "    }\n",
       "\n",
       "    .dataframe thead th {\n",
       "        text-align: right;\n",
       "    }\n",
       "</style>\n",
       "<table border=\"1\" class=\"dataframe\">\n",
       "  <thead>\n",
       "    <tr style=\"text-align: right;\">\n",
       "      <th></th>\n",
       "      <th>Name</th>\n",
       "      <th>Age</th>\n",
       "      <th>Salary</th>\n",
       "      <th>Payment Status</th>\n",
       "    </tr>\n",
       "  </thead>\n",
       "  <tbody>\n",
       "    <tr>\n",
       "      <th>0</th>\n",
       "      <td>Employee_1</td>\n",
       "      <td>44</td>\n",
       "      <td>80864</td>\n",
       "      <td>Unpaid</td>\n",
       "    </tr>\n",
       "    <tr>\n",
       "      <th>1</th>\n",
       "      <td>Employee_2</td>\n",
       "      <td>36</td>\n",
       "      <td>71214</td>\n",
       "      <td>Unpaid</td>\n",
       "    </tr>\n",
       "    <tr>\n",
       "      <th>2</th>\n",
       "      <td>Employee_3</td>\n",
       "      <td>56</td>\n",
       "      <td>30623</td>\n",
       "      <td>Paid</td>\n",
       "    </tr>\n",
       "    <tr>\n",
       "      <th>3</th>\n",
       "      <td>Employee_4</td>\n",
       "      <td>30</td>\n",
       "      <td>33858</td>\n",
       "      <td>Unpaid</td>\n",
       "    </tr>\n",
       "    <tr>\n",
       "      <th>4</th>\n",
       "      <td>Employee_5</td>\n",
       "      <td>35</td>\n",
       "      <td>40166</td>\n",
       "      <td>Paid</td>\n",
       "    </tr>\n",
       "  </tbody>\n",
       "</table>\n",
       "</div>"
      ],
      "text/plain": [
       "         Name  Age  Salary Payment Status\n",
       "0  Employee_1   44   80864         Unpaid\n",
       "1  Employee_2   36   71214         Unpaid\n",
       "2  Employee_3   56   30623           Paid\n",
       "3  Employee_4   30   33858         Unpaid\n",
       "4  Employee_5   35   40166           Paid"
      ]
     },
     "execution_count": 6,
     "metadata": {},
     "output_type": "execute_result"
    }
   ],
   "source": [
    "\n",
    "# Drop the \"Heart Rate\" feature\n",
    "df_final = df.drop(columns=[\"Heart Rate\"])\n",
    "\n",
    "# Store the final dataset into a CSV file\n",
    "file_path = \"employee_dataset.csv\"\n",
    "df_final.to_csv(file_path, index=False)\n",
    "\n",
    "print(f\"Dataset saved to {file_path}\")\n",
    "\n",
    "file = \"employee_dataset.csv\"\n",
    "\n",
    "df = pd.read_csv(file)\n",
    "df.head()"
   ]
  },
  {
   "cell_type": "code",
   "execution_count": 7,
   "metadata": {},
   "outputs": [
    {
     "name": "stdout",
     "output_type": "stream",
     "text": [
      "    Name  Age\n",
      "0  Alice   25\n",
      "1    Bob   30\n"
     ]
    }
   ],
   "source": [
    "# Importing pandas\n",
    "import pandas as pd\n",
    "\n",
    "# Now you can use pandas functionality in your script\n",
    "data = {'Name': ['Alice', 'Bob'], 'Age': [25, 30]}\n",
    "df = pd.DataFrame(data)\n",
    "\n",
    "# Display the DataFrame\n",
    "print(df)\n"
   ]
  }
 ],
 "metadata": {
  "kernelspec": {
   "display_name": "Python 3",
   "language": "python",
   "name": "python3"
  },
  "language_info": {
   "codemirror_mode": {
    "name": "ipython",
    "version": 3
   },
   "file_extension": ".py",
   "mimetype": "text/x-python",
   "name": "python",
   "nbconvert_exporter": "python",
   "pygments_lexer": "ipython3",
   "version": "3.11.4"
  }
 },
 "nbformat": 4,
 "nbformat_minor": 2
}
