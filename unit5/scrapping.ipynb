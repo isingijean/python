{
 "cells": [
  {
   "cell_type": "markdown",
   "metadata": {},
   "source": [
    "<h1 style='color:blue'>Real-World Example of Web Scraping</h1>\n",
    "\n",
    "Let's say you want to scrape job listings from a website like Indeed or LinkedIn (assuming they allow it). The goal is to extract job titles, company names, locations, and posted dates.\n",
    "\n",
    "Since LinkedIn and Indeed have strict anti-scraping measures, we'll use an example from Times Jobs, which is more open to scraping."
   ]
  },
  {
   "cell_type": "markdown",
   "metadata": {},
   "source": [
    "<h1 style='color:red'>Steps to Scrape Job Listings Using Python</h1>\n",
    "\n",
    "We'll use:\n",
    "\n",
    "    requests – to fetch the webpage\n",
    "    BeautifulSoup – to parse HTML\n",
    "    pandas – to save results in a structured format"
   ]
  },
  {
   "cell_type": "markdown",
   "metadata": {},
   "source": [
    "<h1 style='color:red'>Step 1: Install Required Libraries</h1>\n",
    "\n",
    "pip install requests beautifulsoup4 pandas"
   ]
  },
  {
   "cell_type": "markdown",
   "metadata": {},
   "source": [
    "<h1 style='color:red'>Step 2: Import Necessary Modules</h1>"
   ]
  },
  {
   "cell_type": "code",
   "execution_count": 12,
   "metadata": {},
   "outputs": [],
   "source": [
    "from bs4 import BeautifulSoup\n",
    "import requests\n",
    "import pandas as pd\n",
    "\n"
   ]
  },
  {
   "cell_type": "markdown",
   "metadata": {},
   "source": [
    "<h1 style='color:red'>Step 3: Define the URL to Scrape</h1>\n",
    "\n",
    "This URL searches for Python jobs on TimesJobs."
   ]
  },
  {
   "cell_type": "code",
   "execution_count": 22,
   "metadata": {},
   "outputs": [],
   "source": [
    "url = \"https://www.timesjobs.com/candidate/job-search.html?searchType=personalizedSearch&from=submit&txtKeywords=python&txtLocation=\"\n",
    "\n",
    "# page = requests.get(url)\n",
    "\n",
    "# soup = BeautifulSoup(page.text, 'html')\n",
    "\n",
    "# print(soup)"
   ]
  },
  {
   "cell_type": "markdown",
   "metadata": {},
   "source": [
    "<h1 style='color:red'>Step 4: Send a Request to the Website</h1>"
   ]
  },
  {
   "cell_type": "code",
   "execution_count": 14,
   "metadata": {},
   "outputs": [
    {
     "name": "stdout",
     "output_type": "stream",
     "text": [
      "Successfully fetched the webpage\n"
     ]
    }
   ],
   "source": [
    "headers = {\n",
    "    \"User-Agent\": \"Mozilla/5.0 (Windows NT 10.0; Win64; x64) AppleWebKit/537.36 (KHTML, like Gecko) Chrome/122.0.0.0 Safari/537.36\"\n",
    "}\n",
    "\n",
    "response = requests.get(url, headers=headers)\n",
    "\n",
    "# Check if request was successful\n",
    "if response.status_code == 200:\n",
    "    print(\"Successfully fetched the webpage\")\n",
    "else:\n",
    "    print(\"Failed to fetch the webpage\")\n"
   ]
  },
  {
   "cell_type": "markdown",
   "metadata": {},
   "source": [
    "<h1 style='color:red'>Step 5: Parse the HTML Content</h1>"
   ]
  },
  {
   "cell_type": "code",
   "execution_count": 28,
   "metadata": {},
   "outputs": [
    {
     "name": "stdout",
     "output_type": "stream",
     "text": [
      "[]\n"
     ]
    }
   ],
   "source": [
    "soup = BeautifulSoup(response.text, \"html.parser\")\n",
    "\n",
    "# Find job listings\n",
    "jobs = soup.find_all(\"li\", class_=\"clearfix job-bx wht-shd-bx\")\n",
    "print(soup.find_all('table'))"
   ]
  },
  {
   "cell_type": "markdown",
   "metadata": {},
   "source": [
    "<h1 style='color:red'>Step 6: Extract Job Information</h1>"
   ]
  },
  {
   "cell_type": "code",
   "execution_count": 17,
   "metadata": {},
   "outputs": [
    {
     "name": "stdout",
     "output_type": "stream",
     "text": [
      "[{'Title': 'Python Developer , Python , Python Full stack', 'Company': 'Peopleplease Consulting', 'Location': 'N/A', 'Posted': 'a month ago'}, {'Title': 'Python Developer', 'Company': 'LAKSH HUMAN RESOURCE', 'Location': 'N/A', 'Posted': 'few days ago'}, {'Title': 'Python Developer', 'Company': 'Analytics Vidhya', 'Location': 'N/A', 'Posted': '6 days ago'}, {'Title': 'Python Developer', 'Company': 'zenga tv', 'Location': 'N/A', 'Posted': 'few days ago'}, {'Title': 'Python Developer', 'Company': 'SEVEN CONSULTANCY', 'Location': 'N/A', 'Posted': 'few days ago'}]\n"
     ]
    }
   ],
   "source": [
    "job_list = []\n",
    "\n",
    "for job in jobs:\n",
    "    title = job.find(\"h2\").text.strip() if job.find(\"h2\") else \"N/A\"\n",
    "    company = job.find(\"h3\", class_=\"joblist-comp-name\").text.strip() if job.find(\"h3\", class_=\"joblist-comp-name\") else \"N/A\"\n",
    "    \n",
    "    # Handle missing location data\n",
    "    location_tag = job.find(\"ul\", class_=\"top-jd-dtl clearfix\")\n",
    "    location = location_tag.li.text.strip() if location_tag and location_tag.li else \"N/A\"\n",
    "\n",
    "    # Handle missing posted date\n",
    "    posted_tag = job.find(\"span\", class_=\"sim-posted\")\n",
    "    posted = posted_tag.text.strip() if posted_tag else \"N/A\"\n",
    "\n",
    "    job_list.append({\n",
    "        \"Title\": title,\n",
    "        \"Company\": company,\n",
    "        \"Location\": location,\n",
    "        \"Posted\": posted\n",
    "    })\n",
    "\n",
    "# Display extracted data\n",
    "print(job_list[:5])  # Print first 5 jobs\n"
   ]
  },
  {
   "cell_type": "markdown",
   "metadata": {},
   "source": [
    "<h1 style='color:red'>Step 7: Save Data to CSV</h1>"
   ]
  },
  {
   "cell_type": "code",
   "execution_count": 18,
   "metadata": {},
   "outputs": [
    {
     "name": "stdout",
     "output_type": "stream",
     "text": [
      "Data saved to python_jobs.csv\n"
     ]
    }
   ],
   "source": [
    "df = pd.DataFrame(job_list)\n",
    "df.to_csv(\"python_jobs.csv\", index=False)\n",
    "print(\"Data saved to python_jobs.csv\")\n"
   ]
  },
  {
   "cell_type": "markdown",
   "metadata": {},
   "source": [
    "<h1 style='color:red'>Step 8: Read Data from CSV</h1>"
   ]
  },
  {
   "cell_type": "code",
   "execution_count": 20,
   "metadata": {},
   "outputs": [
    {
     "data": {
      "text/html": [
       "<div>\n",
       "<style scoped>\n",
       "    .dataframe tbody tr th:only-of-type {\n",
       "        vertical-align: middle;\n",
       "    }\n",
       "\n",
       "    .dataframe tbody tr th {\n",
       "        vertical-align: top;\n",
       "    }\n",
       "\n",
       "    .dataframe thead th {\n",
       "        text-align: right;\n",
       "    }\n",
       "</style>\n",
       "<table border=\"1\" class=\"dataframe\">\n",
       "  <thead>\n",
       "    <tr style=\"text-align: right;\">\n",
       "      <th></th>\n",
       "      <th>Title</th>\n",
       "      <th>Company</th>\n",
       "      <th>Location</th>\n",
       "      <th>Posted</th>\n",
       "    </tr>\n",
       "  </thead>\n",
       "  <tbody>\n",
       "    <tr>\n",
       "      <th>0</th>\n",
       "      <td>Python Developer , Python , Python Full stack</td>\n",
       "      <td>Peopleplease Consulting</td>\n",
       "      <td>NaN</td>\n",
       "      <td>a month ago</td>\n",
       "    </tr>\n",
       "    <tr>\n",
       "      <th>1</th>\n",
       "      <td>Python Developer</td>\n",
       "      <td>LAKSH HUMAN RESOURCE</td>\n",
       "      <td>NaN</td>\n",
       "      <td>few days ago</td>\n",
       "    </tr>\n",
       "    <tr>\n",
       "      <th>2</th>\n",
       "      <td>Python Developer</td>\n",
       "      <td>Analytics Vidhya</td>\n",
       "      <td>NaN</td>\n",
       "      <td>6 days ago</td>\n",
       "    </tr>\n",
       "    <tr>\n",
       "      <th>3</th>\n",
       "      <td>Python Developer</td>\n",
       "      <td>zenga tv</td>\n",
       "      <td>NaN</td>\n",
       "      <td>few days ago</td>\n",
       "    </tr>\n",
       "    <tr>\n",
       "      <th>4</th>\n",
       "      <td>Python Developer</td>\n",
       "      <td>SEVEN CONSULTANCY</td>\n",
       "      <td>NaN</td>\n",
       "      <td>few days ago</td>\n",
       "    </tr>\n",
       "  </tbody>\n",
       "</table>\n",
       "</div>"
      ],
      "text/plain": [
       "                                           Title                  Company  \\\n",
       "0  Python Developer , Python , Python Full stack  Peopleplease Consulting   \n",
       "1                               Python Developer     LAKSH HUMAN RESOURCE   \n",
       "2                               Python Developer         Analytics Vidhya   \n",
       "3                               Python Developer                 zenga tv   \n",
       "4                               Python Developer        SEVEN CONSULTANCY   \n",
       "\n",
       "   Location        Posted  \n",
       "0       NaN   a month ago  \n",
       "1       NaN  few days ago  \n",
       "2       NaN    6 days ago  \n",
       "3       NaN  few days ago  \n",
       "4       NaN  few days ago  "
      ]
     },
     "execution_count": 20,
     "metadata": {},
     "output_type": "execute_result"
    }
   ],
   "source": [
    "df = pd.read_csv(\"python_jobs.csv\")\n",
    "df.head()  # Display the first 5 rows\n"
   ]
  },
  {
   "cell_type": "code",
   "execution_count": 21,
   "metadata": {},
   "outputs": [
    {
     "data": {
      "text/plain": [
       "25"
      ]
     },
     "execution_count": 21,
     "metadata": {},
     "output_type": "execute_result"
    }
   ],
   "source": [
    "len(df)"
   ]
  },
  {
   "cell_type": "code",
   "execution_count": null,
   "metadata": {},
   "outputs": [],
   "source": []
  }
 ],
 "metadata": {
  "kernelspec": {
   "display_name": "Python 3",
   "language": "python",
   "name": "python3"
  },
  "language_info": {
   "codemirror_mode": {
    "name": "ipython",
    "version": 3
   },
   "file_extension": ".py",
   "mimetype": "text/x-python",
   "name": "python",
   "nbconvert_exporter": "python",
   "pygments_lexer": "ipython3",
   "version": "3.13.1"
  }
 },
 "nbformat": 4,
 "nbformat_minor": 2
}
