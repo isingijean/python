{
 "cells": [
  {
   "cell_type": "code",
   "execution_count": 60,
   "metadata": {},
   "outputs": [
    {
     "name": "stdout",
     "output_type": "stream",
     "text": [
      "apple\n",
      "apple\n",
      "banana\n",
      "cherry\n"
     ]
    }
   ],
   "source": [
    "# list\n",
    "fruits = ['apple','banana', 'cherry']\n",
    "print(fruits[0])\n",
    "for fruit in fruits:\n",
    "    print(fruit)\n",
    "   "
   ]
  },
  {
   "cell_type": "markdown",
   "metadata": {},
   "source": [
    "<h1 style='color:blue'>CONTINUE STATEMENT</h1>"
   ]
  },
  {
   "cell_type": "code",
   "execution_count": 61,
   "metadata": {},
   "outputs": [
    {
     "name": "stdout",
     "output_type": "stream",
     "text": [
      "0\n",
      "1\n",
      "2\n",
      "3\n",
      "4\n",
      "6\n",
      "7\n",
      "8\n",
      "9\n",
      "10\n",
      "50\n"
     ]
    }
   ],
   "source": [
    "\n",
    "count = 0\n",
    "sum = 0\n",
    "while count <= 10:\n",
    "    # sum=sum + count\n",
    "    if count == 5:\n",
    "        \n",
    "        count = count + 1  # Increment count before continue\n",
    "        continue\n",
    "    sum=sum + count\n",
    "    print(count)        \n",
    "    count = count + 1\n",
    "print(sum)"
   ]
  },
  {
   "cell_type": "markdown",
   "metadata": {},
   "source": [
    "<p style='color:green'>This is a break statement</p>"
   ]
  },
  {
   "cell_type": "code",
   "execution_count": 62,
   "metadata": {},
   "outputs": [
    {
     "name": "stdout",
     "output_type": "stream",
     "text": [
      "0\n",
      "1\n",
      "2\n",
      "3\n",
      "4\n",
      "10\n"
     ]
    }
   ],
   "source": [
    "\n",
    "count = 0\n",
    "sum = 0\n",
    "while count <= 10:\n",
    "    # sum=sum + count\n",
    "    if count == 5:    \n",
    "        break\n",
    "    sum=sum + count\n",
    "    print(count)        \n",
    "    count = count + 1\n",
    "print(sum)"
   ]
  },
  {
   "cell_type": "markdown",
   "metadata": {},
   "source": [
    "<h1 style=\"color:green\">FUNCTIONS</h1>"
   ]
  },
  {
   "cell_type": "code",
   "execution_count": 63,
   "metadata": {},
   "outputs": [],
   "source": [
    "# function creation\n",
    "def l7():\n",
    "    print('Hello, Happy Valentines day')\n",
    "    "
   ]
  },
  {
   "cell_type": "code",
   "execution_count": 64,
   "metadata": {},
   "outputs": [
    {
     "name": "stdout",
     "output_type": "stream",
     "text": [
      "Hello, Happy Valentines day\n"
     ]
    }
   ],
   "source": [
    "# function call\n",
    "l7()"
   ]
  },
  {
   "cell_type": "code",
   "execution_count": 65,
   "metadata": {},
   "outputs": [
    {
     "name": "stdout",
     "output_type": "stream",
     "text": [
      "my department is IT\n"
     ]
    }
   ],
   "source": [
    "# Arguments\n",
    "def l7(depart):\n",
    "    print('my department is',depart)\n",
    "depart1 ='IT'\n",
    "l7(depart1)"
   ]
  },
  {
   "cell_type": "code",
   "execution_count": 66,
   "metadata": {},
   "outputs": [
    {
     "name": "stdout",
     "output_type": "stream",
     "text": [
      "sum =  16\n"
     ]
    }
   ],
   "source": [
    "# Arguments\n",
    "def l7(x,y):\n",
    "    return x+y\n",
    "a =6\n",
    "b= 10\n",
    "print('sum = ',l7(a,b))"
   ]
  },
  {
   "cell_type": "code",
   "execution_count": 67,
   "metadata": {},
   "outputs": [
    {
     "name": "stdout",
     "output_type": "stream",
     "text": [
      "Year of study:  3 \n",
      " Name is:  John\n"
     ]
    }
   ],
   "source": [
    "# Default Parameter Value\n",
    "def l7(year = 3, name= 'John'):\n",
    "    print('Year of study: ', year, '\\n Name is: ', name)\n",
    "l7()"
   ]
  },
  {
   "cell_type": "code",
   "execution_count": 68,
   "metadata": {},
   "outputs": [
    {
     "name": "stdout",
     "output_type": "stream",
     "text": [
      "Ange\tJohn\tAlice\t"
     ]
    }
   ],
   "source": [
    "# Passing a List as an Argument\n",
    "def list_of_fruits(fruits):\n",
    "    for fruit in fruits:\n",
    "        print(fruit, end='\\t')\n",
    "fruit1 = ['Ange','John','Alice']\n",
    "list_of_fruits(fruit1)"
   ]
  },
  {
   "cell_type": "code",
   "execution_count": 69,
   "metadata": {},
   "outputs": [
    {
     "name": "stdout",
     "output_type": "stream",
     "text": [
      "array('i', [20, 90, 80, 17, 65])\n",
      "65\n"
     ]
    }
   ],
   "source": [
    "# ARRAY\n",
    "import array as arr\n",
    "\n",
    "university = arr.array('i',[20,90,80,17,65])\n",
    "print(university)\n",
    "print(university[-1])"
   ]
  },
  {
   "cell_type": "code",
   "execution_count": 70,
   "metadata": {},
   "outputs": [
    {
     "name": "stdout",
     "output_type": "stream",
     "text": [
      "('John',) ('Male',) (20,) Single\n"
     ]
    }
   ],
   "source": [
    "# class\n",
    "# class creation\n",
    "class Person:\n",
    "    def __init__(self,name,gender,age,status):\n",
    "        self.name = name,\n",
    "        self.gender = gender,\n",
    "        self.age = age,\n",
    "        self.status = status\n",
    "# Create an Object\n",
    "p1 = Person('John','Male',20,'Single')\n",
    "print(p1.name,p1.gender,p1.age,p1.status)\n"
   ]
  },
  {
   "cell_type": "code",
   "execution_count": 71,
   "metadata": {},
   "outputs": [
    {
     "name": "stdout",
     "output_type": "stream",
     "text": [
      "Muhire 40 Female Single\n"
     ]
    }
   ],
   "source": [
    "# class\n",
    "# class creation\n",
    "class Person:\n",
    "    def __init__(self,name,gender,age,status):\n",
    "        self.name = name,\n",
    "        self.gender = gender,\n",
    "        self.age = age,\n",
    "        self.status = status\n",
    "    def my_person(self):\n",
    "        print(self.name,self.age,self.gender,self.status)\n",
    "# Create an Object\n",
    "p1 = Person('John','Male',20,'Single')\n",
    "# Update name, gender, age\n",
    "p1.name = 'Muhire'\n",
    "p1.age = 40\n",
    "p1.gender= 'Female'\n",
    "# DROP/DELETE A CLASS PROPERTY\n",
    "# del p1.status\n",
    "# print(p1.name,p1.gender,p1.age,p1.status)\n",
    "p1.my_person()\n"
   ]
  },
  {
   "cell_type": "code",
   "execution_count": 72,
   "metadata": {},
   "outputs": [],
   "source": [
    "# DROP/DELETE A CLASS PROPERTY\n",
    "del p1.status"
   ]
  },
  {
   "cell_type": "code",
   "execution_count": 73,
   "metadata": {},
   "outputs": [
    {
     "data": {
      "text/plain": [
       "'Muhire'"
      ]
     },
     "execution_count": 73,
     "metadata": {},
     "output_type": "execute_result"
    }
   ],
   "source": [
    "class Student(Person):\n",
    "    pass\n",
    "# p1 = Student('John','Male',20,'Single')\n",
    "p1.name"
   ]
  },
  {
   "cell_type": "code",
   "execution_count": 74,
   "metadata": {},
   "outputs": [
    {
     "name": "stdout",
     "output_type": "stream",
     "text": [
      "apple\n"
     ]
    }
   ],
   "source": [
    "# Iterators\n",
    "my_tuple = ('apple','banana','cherry')\n",
    "my_iter = iter(my_tuple)\n",
    "print(next(my_iter))"
   ]
  },
  {
   "cell_type": "code",
   "execution_count": 75,
   "metadata": {},
   "outputs": [
    {
     "name": "stdout",
     "output_type": "stream",
     "text": [
      "54.598150033144236\n"
     ]
    }
   ],
   "source": [
    "import math\n",
    "print(math.exp(4))"
   ]
  },
  {
   "cell_type": "code",
   "execution_count": 76,
   "metadata": {},
   "outputs": [
    {
     "name": "stdout",
     "output_type": "stream",
     "text": [
      "2025-02-14\n",
      "2025-02-14 11:20:30\n"
     ]
    }
   ],
   "source": [
    "# python date\n",
    "import datetime\n",
    "import time\n",
    "print(datetime.date.today())\n",
    "# Print today's date and time using time module\n",
    "print(time.strftime(\"%Y-%m-%d %H:%M:%S\"))"
   ]
  },
  {
   "cell_type": "code",
   "execution_count": 77,
   "metadata": {},
   "outputs": [
    {
     "name": "stdout",
     "output_type": "stream",
     "text": [
      "1.0\n"
     ]
    }
   ],
   "source": [
    "try:    \n",
    "   x = 1\n",
    "   print(x/1)\n",
    "except:\n",
    "    print('Number can not divided by zero')"
   ]
  },
  {
   "cell_type": "code",
   "execution_count": 78,
   "metadata": {},
   "outputs": [
    {
     "name": "stdout",
     "output_type": "stream",
     "text": [
      "Error\n"
     ]
    }
   ],
   "source": [
    "\n",
    "try:\n",
    "    x = int(input('enter num1:'))\n",
    "    y = int(input('enter num2:'))\n",
    "    sum = x / y\n",
    "    print(sum)\n",
    "except:\n",
    "    print('Error')\n",
    "    "
   ]
  }
 ],
 "metadata": {
  "kernelspec": {
   "display_name": "Python 3",
   "language": "python",
   "name": "python3"
  },
  "language_info": {
   "codemirror_mode": {
    "name": "ipython",
    "version": 3
   },
   "file_extension": ".py",
   "mimetype": "text/x-python",
   "name": "python",
   "nbconvert_exporter": "python",
   "pygments_lexer": "ipython3",
   "version": "3.13.1"
  }
 },
 "nbformat": 4,
 "nbformat_minor": 2
}
