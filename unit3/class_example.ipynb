{
 "cells": [
  {
   "cell_type": "code",
   "execution_count": 866,
   "metadata": {},
   "outputs": [
    {
     "name": "stdout",
     "output_type": "stream",
     "text": [
      "Addition = 15\n",
      "Subtract = -5\n",
      "Multply = 50\n",
      "Division = 0.5\n",
      "Modulus = 1\n",
      "Exponention = 9765625\n",
      "Floor divion = 2\n"
     ]
    }
   ],
   "source": [
    "# ARTHIMETIC OPERATOR\n",
    "X = 5\n",
    "y = 10\n",
    "\n",
    "print(\"Addition =\", X+y) # ADDITION OPERATOR\n",
    "print(f\"Subtract = {X-y}\") #SUBTRACTION OPERATOR\n",
    "print(f\"Multply = {X*y}\") #Multiplication OPERATOR\n",
    "print(f\"Division = {X/y}\") #Division OPERATOR\n",
    "print(f\"Modulus = {9%4}\") #Modulus OPERATOR\n",
    "print(f\"Exponention = {X**y}\") #Exponention OPERATOR\n",
    "print(f\"Floor divion = {9//4}\") #Floor divion OPERATOR"
   ]
  },
  {
   "cell_type": "code",
   "execution_count": 867,
   "metadata": {},
   "outputs": [
    {
     "name": "stdout",
     "output_type": "stream",
     "text": [
      "Equal Operator:False\n",
      "Not Equal Operator:True\n",
      "Greater Than Operator:False\n",
      "Less Than Operator:True\n",
      "Greater Than or equal Operator:False\n",
      "Less Than or equal Operator:True\n"
     ]
    }
   ],
   "source": [
    "# COMPARISION OPERATOR\n",
    "\n",
    "x = 10\n",
    "y = 15\n",
    "\n",
    "print(f\"Equal Operator:{x==y}\")\n",
    "print(f\"Not Equal Operator:{x!=y}\")\n",
    "print(f\"Greater Than Operator:{x>y}\")\n",
    "print(f\"Less Than Operator:{x<y}\")\n",
    "print(f\"Greater Than or equal Operator:{x>=y}\")\n",
    "print(f\"Less Than or equal Operator:{x<=y}\")\n"
   ]
  },
  {
   "cell_type": "code",
   "execution_count": 868,
   "metadata": {},
   "outputs": [
    {
     "name": "stdout",
     "output_type": "stream",
     "text": [
      "AND Operator: False\n",
      "OR Operator: True\n",
      "NOT Operator: True False\n"
     ]
    }
   ],
   "source": [
    "# Logical Operators\n",
    "x = False\n",
    "y = True\n",
    "\n",
    "print(f\"AND Operator: {x and y}\")\n",
    "print(f\"OR Operator: {x or y}\")\n",
    "print(f\"NOT Operator: {not x} {not y}\")"
   ]
  },
  {
   "cell_type": "code",
   "execution_count": 869,
   "metadata": {},
   "outputs": [
    {
     "name": "stdout",
     "output_type": "stream",
     "text": [
      "15\n"
     ]
    }
   ],
   "source": [
    "# ASSIGNMENT OPERATOR\n",
    "x = 10\n",
    "x += 5 # x = x + 5\n",
    "# x -= 5\n",
    "# x *= 5\n",
    "# x /= 5\n",
    "# x %= 5\n",
    "# x **= 5\n",
    "# x //= 5\n",
    "print(x)\n",
    "\n"
   ]
  },
  {
   "cell_type": "code",
   "execution_count": 870,
   "metadata": {},
   "outputs": [
    {
     "name": "stdout",
     "output_type": "stream",
     "text": [
      "5\n",
      "15\n",
      "-6\n",
      "10\n",
      "2\n"
     ]
    }
   ],
   "source": [
    "# Bitwise Operators\n",
    "# 1111\n",
    "# 0101 = 1010\n",
    "# 1010\n",
    "a = 15\n",
    "b = 5\n",
    "print(a&b)\n",
    "print(a|b)\n",
    "print(~b)\n",
    "print(b << 1)\n",
    "print(b >> 1)"
   ]
  },
  {
   "cell_type": "code",
   "execution_count": 871,
   "metadata": {},
   "outputs": [
    {
     "name": "stdout",
     "output_type": "stream",
     "text": [
      "True\n",
      "True\n"
     ]
    }
   ],
   "source": [
    "# MEMBERSHIP OPERATOR\n",
    "\n",
    "students = ['John', 'Alice', 'Anne']\n",
    "# membership in operator\n",
    "print(\"Alice\" in students)\n",
    "print(\"UWINEZA\" not in students)"
   ]
  },
  {
   "cell_type": "code",
   "execution_count": 872,
   "metadata": {},
   "outputs": [
    {
     "name": "stdout",
     "output_type": "stream",
     "text": [
      "True\n",
      "True\n"
     ]
    }
   ],
   "source": [
    "students = ('John', 'Alice', 'Anne')\n",
    "# membership in operator\n",
    "print(\"Alice\" in students)\n",
    "print(\"UWINEZA\" not in students)"
   ]
  },
  {
   "cell_type": "code",
   "execution_count": 873,
   "metadata": {},
   "outputs": [
    {
     "name": "stdout",
     "output_type": "stream",
     "text": [
      "True\n",
      "True\n"
     ]
    }
   ],
   "source": [
    "x = 3\n",
    "y = 4\n",
    "print(x is x)\n",
    "print(x is not y)"
   ]
  },
  {
   "cell_type": "code",
   "execution_count": 874,
   "metadata": {},
   "outputs": [
    {
     "name": "stdout",
     "output_type": "stream",
     "text": [
      "Y3\n",
      "Y2\n",
      "Y1\n",
      "Y4\n",
      "['Y1']\n",
      "['Y1', 'Y2', 'Y3', 'Y4']\n",
      "['Y1', 'Y2', 'Y3', 'Y6']\n"
     ]
    }
   ],
   "source": [
    "# LIST\n",
    "class1 =  [\"Y1\",\"Y2\", \"Y3\", \"Y4\"]\n",
    "print(class1[2])\n",
    "print(class1[1])\n",
    "print(class1[0])\n",
    "print(class1[-1])\n",
    "print(class1[:1])\n",
    "# change item\n",
    "print(class1)\n",
    "class1[3] = 'Y6'\n",
    "print(class1)"
   ]
  },
  {
   "cell_type": "code",
   "execution_count": 875,
   "metadata": {},
   "outputs": [
    {
     "name": "stdout",
     "output_type": "stream",
     "text": [
      "Y1\tY2\tY3\tY6\t"
     ]
    }
   ],
   "source": [
    "# looping\n",
    "\n",
    "for class2 in class1:\n",
    "    print(class2, end=\"\\t\")"
   ]
  },
  {
   "cell_type": "code",
   "execution_count": 876,
   "metadata": {},
   "outputs": [
    {
     "name": "stdout",
     "output_type": "stream",
     "text": [
      "Y6 exist in your list\n"
     ]
    }
   ],
   "source": [
    "# Check If Item Exists\n",
    "if class1[3] in class1:\n",
    "    print(f\"{class1[3]} exist in your list\")"
   ]
  },
  {
   "cell_type": "code",
   "execution_count": 877,
   "metadata": {},
   "outputs": [
    {
     "data": {
      "text/plain": [
       "4"
      ]
     },
     "execution_count": 877,
     "metadata": {},
     "output_type": "execute_result"
    }
   ],
   "source": [
    "# List Length\n",
    "len(class1)"
   ]
  },
  {
   "cell_type": "code",
   "execution_count": 878,
   "metadata": {},
   "outputs": [
    {
     "data": {
      "text/plain": [
       "['Y1', 'Y2', 'Y3', 'Y6', 'Y7', 'Y5']"
      ]
     },
     "execution_count": 878,
     "metadata": {},
     "output_type": "execute_result"
    }
   ],
   "source": [
    "# Add Items in the list\n",
    "class1.append('Y5')\n",
    "class1.insert(4,'Y7')\n",
    "class1"
   ]
  },
  {
   "cell_type": "code",
   "execution_count": 879,
   "metadata": {},
   "outputs": [
    {
     "data": {
      "text/plain": [
       "['Y1', 'Y2', 'Y3', 'Y6', 'Y7', 'Y5']"
      ]
     },
     "execution_count": 879,
     "metadata": {},
     "output_type": "execute_result"
    }
   ],
   "source": [
    "# Remove Items (remove,pop,del,clear operations)\n",
    "# class1.remove(class1[3])\n",
    "# class1.pop(0)\n",
    "# del class1[2]\n",
    "# class1.clear()\n",
    "class1"
   ]
  },
  {
   "cell_type": "code",
   "execution_count": 880,
   "metadata": {},
   "outputs": [
    {
     "name": "stdout",
     "output_type": "stream",
     "text": [
      "Original data ['Y1', 'Y2', 'Y3', 'Y6', 'Y7', 'Y5']\n",
      "Backup data: ['Y1', 'Y2', 'Y3', 'Y6', 'Y7', 'Y5']\n"
     ]
    }
   ],
   "source": [
    "# copy item\n",
    "class3= class1.copy()\n",
    "print(\"Original data\", class1)\n",
    "print(\"Backup data:\", class3)"
   ]
  },
  {
   "cell_type": "code",
   "execution_count": 881,
   "metadata": {},
   "outputs": [
    {
     "data": {
      "text/plain": [
       "['Y1', 'Y1', 'Y2', 'Y3', 'Y6', 'Y7', 'Y5']"
      ]
     },
     "execution_count": 881,
     "metadata": {},
     "output_type": "execute_result"
    }
   ],
   "source": [
    "# constructor\n",
    "\n",
    "list_cons = list(('Y1','Y1', 'Y2', 'Y3', 'Y6', 'Y7', 'Y5'))\n",
    "list_cons"
   ]
  },
  {
   "cell_type": "code",
   "execution_count": 882,
   "metadata": {},
   "outputs": [
    {
     "data": {
      "text/plain": [
       "['Y1', 'Y1', 'Y2', 'Y3', 'Y5', 'Y6', 'Y7']"
      ]
     },
     "execution_count": 882,
     "metadata": {},
     "output_type": "execute_result"
    }
   ],
   "source": [
    "# ORTING LIST\n",
    "list_cons.sort()\n",
    "list_cons"
   ]
  },
  {
   "cell_type": "code",
   "execution_count": 883,
   "metadata": {},
   "outputs": [
    {
     "data": {
      "text/plain": [
       "['Y7', 'Y6', 'Y5', 'Y3', 'Y2', 'Y1', 'Y1']"
      ]
     },
     "execution_count": 883,
     "metadata": {},
     "output_type": "execute_result"
    }
   ],
   "source": [
    "# REVERSE LIST\n",
    "list_cons.reverse()\n",
    "list_cons"
   ]
  },
  {
   "cell_type": "code",
   "execution_count": 884,
   "metadata": {},
   "outputs": [
    {
     "name": "stdout",
     "output_type": "stream",
     "text": [
      "2\n"
     ]
    }
   ],
   "source": [
    "print(list_cons.count('Y1'))\n"
   ]
  },
  {
   "cell_type": "code",
   "execution_count": 885,
   "metadata": {},
   "outputs": [
    {
     "data": {
      "text/plain": [
       "['Y7', 'Y6', 'Y5', 'Y3', 'Y2', 'Y1', 'Y1', 'A1', 'A0', 'Masters', 'PHD']"
      ]
     },
     "execution_count": 885,
     "metadata": {},
     "output_type": "execute_result"
    }
   ],
   "source": [
    "class4 = ['A1','A0','Masters','PHD']\n",
    "list_cons.extend(class4)\n",
    "list_cons"
   ]
  },
  {
   "cell_type": "code",
   "execution_count": 886,
   "metadata": {},
   "outputs": [
    {
     "name": "stdout",
     "output_type": "stream",
     "text": [
      "Red\n"
     ]
    }
   ],
   "source": [
    "# TUPLRE\n",
    "# Create tuple\n",
    "colours = (\"Red\",\"Green\",\"Blue\")\n",
    "print(colours[0])\n",
    "\n"
   ]
  },
  {
   "cell_type": "code",
   "execution_count": 887,
   "metadata": {},
   "outputs": [
    {
     "name": "stdout",
     "output_type": "stream",
     "text": [
      "Blue\n"
     ]
    }
   ],
   "source": [
    "# NEGATING TUPLE \n",
    "print(colours[-1])"
   ]
  },
  {
   "cell_type": "code",
   "execution_count": 888,
   "metadata": {},
   "outputs": [
    {
     "data": {
      "text/plain": [
       "{'orage', 'pineaple'}"
      ]
     },
     "execution_count": 888,
     "metadata": {},
     "output_type": "execute_result"
    }
   ],
   "source": [
    "# remove set\n",
    "my_set = {'banana','orage','pineaple'}\n",
    "my_set.discard('banana')\n",
    "my_set"
   ]
  },
  {
   "cell_type": "code",
   "execution_count": 889,
   "metadata": {},
   "outputs": [
    {
     "name": "stdout",
     "output_type": "stream",
     "text": [
      "{'C', 'B', 'Y', 'E', 'A', 'Z'}\n"
     ]
    }
   ],
   "source": [
    "# UPDATE SET\n",
    "set1 = {'A','B','C'}\n",
    "set2 = {'E','Z','Y'}\n",
    "set1.update(set2)\n",
    "print(set1)\n"
   ]
  },
  {
   "cell_type": "code",
   "execution_count": 890,
   "metadata": {},
   "outputs": [
    {
     "name": "stdout",
     "output_type": "stream",
     "text": [
      "{'Y', 'Z', 'E'}\n"
     ]
    }
   ],
   "source": [
    "result = set1.intersection(set2)\n",
    "print(result)"
   ]
  },
  {
   "cell_type": "code",
   "execution_count": 891,
   "metadata": {},
   "outputs": [
    {
     "data": {
      "text/plain": [
       "{9}"
      ]
     },
     "execution_count": 891,
     "metadata": {},
     "output_type": "execute_result"
    }
   ],
   "source": [
    "set1 = {1,2,3,4,5,6}\n",
    "set2 = {4,5,6,9}\n",
    "result = set2.difference(set1)\n",
    "result"
   ]
  },
  {
   "cell_type": "code",
   "execution_count": 892,
   "metadata": {},
   "outputs": [
    {
     "data": {
      "text/plain": [
       "{'fname': 'Janvier', 'lname': 'KABAKA', 'age': 20, 'gender': 'Male'}"
      ]
     },
     "execution_count": 892,
     "metadata": {},
     "output_type": "execute_result"
    }
   ],
   "source": [
    "# dictionary\n",
    "dict_1 = {\"fname\": 'Janvier', 'lname':'KABAKA', 'age':20,'gender':'Male'}\n",
    "dict_1"
   ]
  },
  {
   "cell_type": "code",
   "execution_count": 893,
   "metadata": {},
   "outputs": [
    {
     "data": {
      "text/plain": [
       "'Janvier'"
      ]
     },
     "execution_count": 893,
     "metadata": {},
     "output_type": "execute_result"
    }
   ],
   "source": [
    "dict_1['fname']"
   ]
  },
  {
   "cell_type": "code",
   "execution_count": 894,
   "metadata": {},
   "outputs": [
    {
     "name": "stdout",
     "output_type": "stream",
     "text": [
      "{'fname': 'Janvier', 'lname': 'KABAKA', 'age': 20, 'gender': 'Male'}\n",
      "{'fname': 'Janvier', 'lname': 'MUHIRE', 'age': 50, 'gender': 'Male'}\n"
     ]
    }
   ],
   "source": [
    "# modify\n",
    "print(dict_1)\n",
    "dict_1['lname'] = 'MUHIRE'\n",
    "dict_1['age'] = 50\n",
    "print(dict_1)"
   ]
  },
  {
   "cell_type": "code",
   "execution_count": 895,
   "metadata": {},
   "outputs": [
    {
     "name": "stdout",
     "output_type": "stream",
     "text": [
      "fname : Janvier\n",
      "lname : MUHIRE\n",
      "age : 50\n",
      "gender : Male\n"
     ]
    }
   ],
   "source": [
    "# loop\n",
    "for key, value in dict_1.items():\n",
    "    print(key, \":\", value)"
   ]
  },
  {
   "cell_type": "code",
   "execution_count": 896,
   "metadata": {},
   "outputs": [
    {
     "name": "stdout",
     "output_type": "stream",
     "text": [
      "record exists\n"
     ]
    }
   ],
   "source": [
    "# Check if Key Exists\n",
    "if 'gender' in dict_1:\n",
    "    print('record exists')\n"
   ]
  },
  {
   "cell_type": "code",
   "execution_count": 897,
   "metadata": {},
   "outputs": [
    {
     "name": "stdout",
     "output_type": "stream",
     "text": [
      "value 50 exist\n"
     ]
    }
   ],
   "source": [
    "#  Check if Value Exists\n",
    "if 50 in dict_1.values():\n",
    "    print('value 50 exist')"
   ]
  },
  {
   "cell_type": "code",
   "execution_count": 898,
   "metadata": {},
   "outputs": [
    {
     "data": {
      "text/plain": [
       "4"
      ]
     },
     "execution_count": 898,
     "metadata": {},
     "output_type": "execute_result"
    }
   ],
   "source": [
    "len(dict_1)"
   ]
  },
  {
   "cell_type": "code",
   "execution_count": 899,
   "metadata": {},
   "outputs": [
    {
     "data": {
      "text/plain": [
       "{'fname': 'Janvier',\n",
       " 'lname': 'MUHIRE',\n",
       " 'age': 50,\n",
       " 'gender': 'Male',\n",
       " 'attended': 1}"
      ]
     },
     "execution_count": 899,
     "metadata": {},
     "output_type": "execute_result"
    }
   ],
   "source": [
    "# Add Items to Dictionary\n",
    "dict_1['attended'] = 1\n",
    "dict_1"
   ]
  },
  {
   "cell_type": "code",
   "execution_count": 900,
   "metadata": {},
   "outputs": [
    {
     "data": {
      "text/plain": [
       "{'fname': 'Janvier', 'lname': 'MUHIRE', 'age': 50, 'gender': 'Male'}"
      ]
     },
     "execution_count": 900,
     "metadata": {},
     "output_type": "execute_result"
    }
   ],
   "source": [
    "dict_1.pop('attended')\n",
    "dict_1"
   ]
  },
  {
   "cell_type": "code",
   "execution_count": 901,
   "metadata": {},
   "outputs": [
    {
     "data": {
      "text/plain": [
       "{'lname': 'MUHIRE', 'age': 50, 'gender': 'Male'}"
      ]
     },
     "execution_count": 901,
     "metadata": {},
     "output_type": "execute_result"
    }
   ],
   "source": [
    "del dict_1['fname']\n",
    "dict_1"
   ]
  },
  {
   "cell_type": "code",
   "execution_count": 902,
   "metadata": {},
   "outputs": [],
   "source": [
    "# dict_1.clear()\n",
    "# dict_1"
   ]
  },
  {
   "cell_type": "code",
   "execution_count": 903,
   "metadata": {},
   "outputs": [
    {
     "data": {
      "text/plain": [
       "{'depart': {'name': 'ICT', 'field': 'IT'},\n",
       " 'depart1': {'name': 'Agri', 'field': 'Crop'}}"
      ]
     },
     "execution_count": 903,
     "metadata": {},
     "output_type": "execute_result"
    }
   ],
   "source": [
    "# Nested Dictionaries\n",
    "rp = {\n",
    "    \"depart\": {'name': 'ICT', 'field': 'IT'},\n",
    "    \"depart1\": {'name': 'Agri', 'field': 'Crop'}\n",
    "}\n",
    "rp"
   ]
  },
  {
   "cell_type": "code",
   "execution_count": 904,
   "metadata": {},
   "outputs": [
    {
     "data": {
      "text/plain": [
       "{'Name': 'Alexis', 'Marital_status': 'Single'}"
      ]
     },
     "execution_count": 904,
     "metadata": {},
     "output_type": "execute_result"
    }
   ],
   "source": [
    "# The dict Constructor\n",
    "dict_const = dict(Name = 'Alexis', Marital_status = 'Single')\n",
    "dict_const"
   ]
  },
  {
   "cell_type": "code",
   "execution_count": 905,
   "metadata": {},
   "outputs": [
    {
     "name": "stdout",
     "output_type": "stream",
     "text": [
      "dict_keys(['lname', 'age', 'gender'])\n",
      "dict_values(['MUHIRE', 50, 'Male'])\n"
     ]
    }
   ],
   "source": [
    "#  ✓keys(): Returns all keys in a dictionary\n",
    "#  ✓values(): Returns all values in a dictionary\n",
    "print(dict_1.keys())\n",
    "print(dict_1.values())"
   ]
  },
  {
   "cell_type": "code",
   "execution_count": 906,
   "metadata": {},
   "outputs": [
    {
     "name": "stdout",
     "output_type": "stream",
     "text": [
      "lname : MUHIRE\n",
      "age : 50\n",
      "gender : Male\n"
     ]
    }
   ],
   "source": [
    "for key, value in dict_1.items():\n",
    "    print(key, ':', value)"
   ]
  },
  {
   "cell_type": "code",
   "execution_count": 907,
   "metadata": {},
   "outputs": [
    {
     "data": {
      "text/plain": [
       "'MUHIRE'"
      ]
     },
     "execution_count": 907,
     "metadata": {},
     "output_type": "execute_result"
    }
   ],
   "source": [
    "result = dict_1.get('lname','Column not found!')\n",
    "result"
   ]
  },
  {
   "cell_type": "code",
   "execution_count": 908,
   "metadata": {},
   "outputs": [
    {
     "name": "stdout",
     "output_type": "stream",
     "text": [
      "MUHIRE\n"
     ]
    }
   ],
   "source": [
    "print(dict_1.pop('lname'))"
   ]
  },
  {
   "cell_type": "code",
   "execution_count": 909,
   "metadata": {},
   "outputs": [
    {
     "data": {
      "text/plain": [
       "{'age': 50, 'gender': 'Male'}"
      ]
     },
     "execution_count": 909,
     "metadata": {},
     "output_type": "execute_result"
    }
   ],
   "source": [
    "dict_1"
   ]
  },
  {
   "cell_type": "code",
   "execution_count": 910,
   "metadata": {},
   "outputs": [
    {
     "name": "stdout",
     "output_type": "stream",
     "text": [
      "Ok\n",
      "Ok\n",
      "Ok\n",
      "Ok\n",
      "Ok\n",
      "Ok\n"
     ]
    }
   ],
   "source": [
    "x = 5\n",
    "y = 5\n",
    "if x == y:\n",
    "    print('Ok')\n",
    "if 5 != 7:\n",
    "    print('Ok')\n",
    "if x < 9:\n",
    "    print('Ok')\n",
    "if x > 2:\n",
    "    print('Ok')\n",
    "if x >= 2:\n",
    "    print('Ok')\n",
    "if x <= 8:\n",
    "   print('Ok')"
   ]
  },
  {
   "cell_type": "code",
   "execution_count": 913,
   "metadata": {},
   "outputs": [
    {
     "name": "stdout",
     "output_type": "stream",
     "text": [
      "Failed!\n"
     ]
    }
   ],
   "source": [
    "# elif\n",
    "marks = float(input('Enter marks:'))\n",
    "if marks >= 90:\n",
    "    print('First Upper Class')\n",
    "elif marks >= 80:\n",
    "    print('First Class')\n",
    "elif marks >= 70:\n",
    "    print('Second Class')\n",
    "elif marks >= 60:\n",
    "    print('Lower Class')\n",
    "elif marks >= 50:\n",
    "    print('Pass')\n",
    "else:\n",
    "    print('Failed!')"
   ]
  },
  {
   "cell_type": "code",
   "execution_count": 915,
   "metadata": {},
   "outputs": [
    {
     "name": "stdout",
     "output_type": "stream",
     "text": [
      "9\n",
      "fail\n"
     ]
    }
   ],
   "source": [
    "# short hand if\n",
    "x=9\n",
    "if x >=9: print(x)\n",
    "\n",
    "print('x') if x<8 else print('fail')"
   ]
  },
  {
   "cell_type": "code",
   "execution_count": null,
   "metadata": {},
   "outputs": [],
   "source": []
  }
 ],
 "metadata": {
  "kernelspec": {
   "display_name": "Python 3",
   "language": "python",
   "name": "python3"
  },
  "language_info": {
   "codemirror_mode": {
    "name": "ipython",
    "version": 3
   },
   "file_extension": ".py",
   "mimetype": "text/x-python",
   "name": "python",
   "nbconvert_exporter": "python",
   "pygments_lexer": "ipython3",
   "version": "3.13.1"
  }
 },
 "nbformat": 4,
 "nbformat_minor": 2
}
