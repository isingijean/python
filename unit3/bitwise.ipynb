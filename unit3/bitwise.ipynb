{
 "cells": [
  {
   "cell_type": "code",
   "execution_count": 168,
   "metadata": {},
   "outputs": [
    {
     "name": "stdout",
     "output_type": "stream",
     "text": [
      "a & b = 0\n",
      "a | b = 14\n",
      "a ^ b = 14\n",
      "~a = -11\n",
      "a << 1 = 20\n",
      "a >> 1 = 5\n"
     ]
    }
   ],
   "source": [
    "a = 10  # Binary: 1010\n",
    "b = 4   # Binary: 0100\n",
    "\n",
    "# AND Operator\n",
    "print(\"a & b =\", a & b)  # 0 (0000)\n",
    "\n",
    "# OR Operator\n",
    "print(\"a | b =\", a | b)  # 14 (1110)\n",
    "\n",
    "# XOR Operator\n",
    "print(\"a ^ b =\", a ^ b)  # 14 (1110)\n",
    "\n",
    "# NOT Operator (bitwise negation)\n",
    "print(\"~a =\", ~a)  # -11 (inverts bits and adds 1)\n",
    "\n",
    "# Left Shift Operator (Shifts bits left by 1 position)\n",
    "print(\"a << 1 =\", a << 1)  # 20 (10100)\n",
    "\n",
    "# Right Shift Operator (Shifts bits right by 1 position)\n",
    "print(\"a >> 1 =\", a >> 1)  # 5 (0101)"
   ]
  },
  {
   "cell_type": "code",
   "execution_count": 169,
   "metadata": {},
   "outputs": [
    {
     "name": "stdout",
     "output_type": "stream",
     "text": [
      "True\n",
      "True\n",
      "False\n"
     ]
    }
   ],
   "source": [
    "# List\n",
    "fruits = [\"apple\", \"banana\", \"cherry\"]\n",
    "print(\"apple\" in fruits)  # Output: True\n",
    "\n",
    "# Tuple\n",
    "numbers = (1, 2, 3, 4, 5)\n",
    "print(3 in numbers)  # Output: True\n",
    "\n",
    "# String\n",
    "text = \"Hello, World!\"\n",
    "print(\"Hellos\" in text)  # Output: True\n"
   ]
  },
  {
   "cell_type": "code",
   "execution_count": 170,
   "metadata": {},
   "outputs": [
    {
     "name": "stdout",
     "output_type": "stream",
     "text": [
      "True\n",
      "True\n",
      "True\n"
     ]
    }
   ],
   "source": [
    "# List\n",
    "fruits = [\"apple\", \"banana\", \"cherry\"]\n",
    "print(\"grape\" not in fruits)  # Output: True\n",
    "\n",
    "# Tuple\n",
    "numbers = (1, 2, 3, 4, 5)\n",
    "print(10 not in numbers)  # Output: True\n",
    "\n",
    "# String\n",
    "text = \"Hello, World!\"\n",
    "print(\"Python\" not in text)  # Output: True\n"
   ]
  },
  {
   "cell_type": "code",
   "execution_count": 171,
   "metadata": {},
   "outputs": [
    {
     "data": {
      "text/plain": [
       "['cherry', 'apple', 'banana']"
      ]
     },
     "execution_count": 171,
     "metadata": {},
     "output_type": "execute_result"
    }
   ],
   "source": [
    "# List\n",
    "fruits = [ \"banana\",\"apple\", \"cherry\"]\n",
    "fruits.reverse()\n",
    "fruits\n"
   ]
  },
  {
   "cell_type": "code",
   "execution_count": 172,
   "metadata": {},
   "outputs": [
    {
     "data": {
      "text/plain": [
       "['dog', 'cat', 'rabbit']"
      ]
     },
     "execution_count": 172,
     "metadata": {},
     "output_type": "execute_result"
    }
   ],
   "source": [
    "list_example = list((\"dog\", \"cat\", \"rabbit\"))\n",
    "list_example"
   ]
  },
  {
   "cell_type": "code",
   "execution_count": 173,
   "metadata": {},
   "outputs": [
    {
     "name": "stdout",
     "output_type": "stream",
     "text": [
      "2\n"
     ]
    }
   ],
   "source": [
    "fruits = [\"banana\", \"apple\", \"cherry\",\"banana\"]\n",
    "# Count occurrences of 'banana'\n",
    "fruit_count = fruits.count(\"banana\")  \n",
    "print(fruit_count)\n"
   ]
  },
  {
   "cell_type": "code",
   "execution_count": 174,
   "metadata": {},
   "outputs": [
    {
     "name": "stdout",
     "output_type": "stream",
     "text": [
      "2\n"
     ]
    }
   ],
   "source": [
    "fruits = [\"apple\", \"cherry\",\"banana\"]\n",
    "  # Get the index of 'banana'\n",
    "index_of_banana = fruits.index(\"banana\")\n",
    "print(index_of_banana)"
   ]
  },
  {
   "cell_type": "code",
   "execution_count": 175,
   "metadata": {},
   "outputs": [
    {
     "name": "stdout",
     "output_type": "stream",
     "text": [
      "['banana', 'apple', 'cherry', 'orange', 'kiwi', 'grapes']\n"
     ]
    }
   ],
   "source": [
    "fruits = [\"banana\", \"apple\", \"cherry\"]\n",
    "more_fruits = [\"orange\", \"kiwi\", \"grapes\"]\n",
    "# Extend the fruits list with more_fruits\n",
    "fruits.extend(more_fruits)\n",
    "print(fruits)"
   ]
  },
  {
   "cell_type": "code",
   "execution_count": 176,
   "metadata": {},
   "outputs": [
    {
     "data": {
      "text/plain": [
       "('red', 'green', 'blue')"
      ]
     },
     "execution_count": 176,
     "metadata": {},
     "output_type": "execute_result"
    }
   ],
   "source": [
    "# Tuple\n",
    "# Tuple Creation\n",
    "colors = (\"red\", \"green\", \"blue\")\n",
    "colors"
   ]
  },
  {
   "cell_type": "code",
   "execution_count": 177,
   "metadata": {},
   "outputs": [
    {
     "name": "stdout",
     "output_type": "stream",
     "text": [
      "['red', 'green', 'blue']\n"
     ]
    },
    {
     "data": {
      "text/plain": [
       "('red', 'yellow', 'blue')"
      ]
     },
     "execution_count": 177,
     "metadata": {},
     "output_type": "execute_result"
    }
   ],
   "source": [
    "temp_list = list(colors)\n",
    "print(temp_list)\n",
    "# Change green to yellow\n",
    "temp_list[1] = \"yellow\"\n",
    "colors = tuple(temp_list)\n",
    "colors\n"
   ]
  },
  {
   "cell_type": "code",
   "execution_count": 178,
   "metadata": {},
   "outputs": [
    {
     "name": "stdout",
     "output_type": "stream",
     "text": [
      "red\n",
      "green\n",
      "blue\n"
     ]
    }
   ],
   "source": [
    "# Tuple\n",
    "# Tuple Creation\n",
    "colors = (\"red\", \"green\", \"blue\")\n",
    "for color in colors:\n",
    "    print(color)\n"
   ]
  },
  {
   "cell_type": "code",
   "execution_count": 179,
   "metadata": {},
   "outputs": [
    {
     "name": "stdout",
     "output_type": "stream",
     "text": [
      "Yes, 'red' is in the tuple\n"
     ]
    }
   ],
   "source": [
    "# Tuple\n",
    "# Tuple Creation\n",
    "colors = (\"red\", \"green\", \"blue\")\n",
    "if \"red\" in colors:\n",
    "    print(\"Yes, 'red' is in the tuple\")"
   ]
  },
  {
   "cell_type": "code",
   "execution_count": 180,
   "metadata": {},
   "outputs": [
    {
     "name": "stdout",
     "output_type": "stream",
     "text": [
      "Yes, red is in the tuple\n"
     ]
    }
   ],
   "source": [
    "# Tuple\n",
    "# Tuple Creation\n",
    "colors = (\"red\", \"green\", \"blue\")\n",
    "if colors[0] in colors:\n",
    "    print(f\"Yes, {colors[0]} is in the tuple\")"
   ]
  },
  {
   "cell_type": "code",
   "execution_count": 181,
   "metadata": {},
   "outputs": [
    {
     "name": "stdout",
     "output_type": "stream",
     "text": [
      "3\n"
     ]
    }
   ],
   "source": [
    "# Tuple\n",
    "# Tuple Creation\n",
    "colors = (\"red\", \"green\", \"blue\")\n",
    "print(len(colors))\n"
   ]
  },
  {
   "cell_type": "code",
   "execution_count": 182,
   "metadata": {},
   "outputs": [
    {
     "data": {
      "text/plain": [
       "('red', 'green', 'blue', 'purple')"
      ]
     },
     "execution_count": 182,
     "metadata": {},
     "output_type": "execute_result"
    }
   ],
   "source": [
    "# Tuple\n",
    "# Tuple Creation\n",
    "colors = (\"red\", \"green\", \"blue\")\n",
    "colors += (\"purple\",)\n",
    "colors"
   ]
  },
  {
   "cell_type": "code",
   "execution_count": 183,
   "metadata": {},
   "outputs": [
    {
     "name": "stdout",
     "output_type": "stream",
     "text": [
      "('yellow', 'purple', 'orange')\n"
     ]
    }
   ],
   "source": [
    "colors = (\"red\", \"green\", \"blue\")\n",
    "del colors\n",
    "colors = (\"yellow\", \"purple\", \"orange\")  # Assigning a new tuple\n",
    "print(colors)\n"
   ]
  },
  {
   "cell_type": "code",
   "execution_count": 184,
   "metadata": {},
   "outputs": [
    {
     "data": {
      "text/plain": [
       "(1, 2, 3, 4, 5)"
      ]
     },
     "execution_count": 184,
     "metadata": {},
     "output_type": "execute_result"
    }
   ],
   "source": [
    "colors = (\"red\", \"green\", \"blue\")\n",
    "tuple1 = (1, 2, 3)\n",
    "tuple2 = (4, 5)\n",
    "# JOIN TUPLES\n",
    "result = tuple1 + tuple2\n",
    "result\n"
   ]
  },
  {
   "cell_type": "code",
   "execution_count": 185,
   "metadata": {},
   "outputs": [
    {
     "data": {
      "text/plain": [
       "('apple', 'banana')"
      ]
     },
     "execution_count": 185,
     "metadata": {},
     "output_type": "execute_result"
    }
   ],
   "source": [
    "# The Tuple Constructor\n",
    "my_tuple = tuple((\"apple\", \"banana\"))\n",
    "my_tuple\n"
   ]
  },
  {
   "cell_type": "code",
   "execution_count": 186,
   "metadata": {},
   "outputs": [
    {
     "name": "stdout",
     "output_type": "stream",
     "text": [
      "total red = 2\n",
      "index of green = 1\n"
     ]
    }
   ],
   "source": [
    "colors = (\"red\", \"green\", \"blue\",\"red\")\n",
    "print(f\"total {colors[0]} = {colors.count(\"red\")}\")\n",
    "print(f\"index of {colors[1]} = {colors.index(\"green\")}\")\n"
   ]
  },
  {
   "cell_type": "code",
   "execution_count": 187,
   "metadata": {},
   "outputs": [
    {
     "data": {
      "text/plain": [
       "{'apple', 'banana', 'cherry', 'orange'}"
      ]
     },
     "execution_count": 187,
     "metadata": {},
     "output_type": "execute_result"
    }
   ],
   "source": [
    "# set\n",
    "# set creation\n",
    "my_set = {\"apple\", \"banana\", \"cherry\"}\n",
    "my_set.add(\"orange\")\n",
    "my_set"
   ]
  },
  {
   "cell_type": "code",
   "execution_count": 188,
   "metadata": {},
   "outputs": [
    {
     "name": "stdout",
     "output_type": "stream",
     "text": [
      "4\n"
     ]
    }
   ],
   "source": [
    "# set\n",
    "# set creation\n",
    "my_set = {\"apple\", \"banana\", \"cherry\",\"mango\"}\n",
    "print(len(my_set))\n"
   ]
  },
  {
   "cell_type": "code",
   "execution_count": 189,
   "metadata": {},
   "outputs": [
    {
     "data": {
      "text/plain": [
       "{'apple', 'cherry', 'mango'}"
      ]
     },
     "execution_count": 189,
     "metadata": {},
     "output_type": "execute_result"
    }
   ],
   "source": [
    "# set\n",
    "# set creation\n",
    "my_set = {\"apple\", \"banana\", \"cherry\",\"mango\"}\n",
    "my_set.remove(\"banana\")  # Throws error if not found\n",
    "my_set"
   ]
  },
  {
   "cell_type": "code",
   "execution_count": 190,
   "metadata": {},
   "outputs": [
    {
     "data": {
      "text/plain": [
       "{'apple', 'cherry', 'mango'}"
      ]
     },
     "execution_count": 190,
     "metadata": {},
     "output_type": "execute_result"
    }
   ],
   "source": [
    "# set\n",
    "# set creation\n",
    "my_set = {\"apple\", \"banana\", \"cherry\",\"mango\"}\n",
    "my_set.discard(\"banana\")  # No error if not found\n",
    "my_set"
   ]
  },
  {
   "cell_type": "code",
   "execution_count": 191,
   "metadata": {},
   "outputs": [
    {
     "data": {
      "text/plain": [
       "{1, 2, 3, 4, 5, 6, 'apple', 'banana', 'cherry', 'mango'}"
      ]
     },
     "execution_count": 191,
     "metadata": {},
     "output_type": "execute_result"
    }
   ],
   "source": [
    "my_set = {\"apple\", \"banana\", \"cherry\",\"mango\"}\n",
    "set1 = {1, 2, 3}\n",
    "set2 = {4, 5, 6}\n",
    "merged_set = set1.union(set2).union(my_set)\n",
    "merged_set\n"
   ]
  },
  {
   "cell_type": "code",
   "execution_count": 192,
   "metadata": {},
   "outputs": [
    {
     "data": {
      "text/plain": [
       "{'cat', 'dog', 'rabbit'}"
      ]
     },
     "execution_count": 192,
     "metadata": {},
     "output_type": "execute_result"
    }
   ],
   "source": [
    "# Set Constructor\n",
    "my_set = set((\"dog\", \"cat\", \"rabbit\"))\n",
    "my_set"
   ]
  },
  {
   "cell_type": "code",
   "execution_count": 193,
   "metadata": {},
   "outputs": [
    {
     "data": {
      "text/plain": [
       "{1, 2, 3, 4, 5, 6}"
      ]
     },
     "execution_count": 193,
     "metadata": {},
     "output_type": "execute_result"
    }
   ],
   "source": [
    "set1 = {1, 2, 3}\n",
    "set2 = {4, 5, 6}\n",
    "set1.update(set2)\n",
    "set1"
   ]
  },
  {
   "cell_type": "code",
   "execution_count": 199,
   "metadata": {},
   "outputs": [
    {
     "data": {
      "text/plain": [
       "{1, 2, 3, 9}"
      ]
     },
     "execution_count": 199,
     "metadata": {},
     "output_type": "execute_result"
    }
   ],
   "source": [
    "set1 = {1, 2, 3, 4, 5, 6}\n",
    "set2 = {4, 5, 6,9}\n",
    "common = set1.symmetric_difference(set2)\n",
    "common"
   ]
  },
  {
   "cell_type": "code",
   "execution_count": null,
   "metadata": {},
   "outputs": [
    {
     "name": "stdout",
     "output_type": "stream",
     "text": [
      "John\n"
     ]
    },
    {
     "data": {
      "text/plain": [
       "{'name': 'John', 'age': 25, 'city': 'New York'}"
      ]
     },
     "execution_count": 202,
     "metadata": {},
     "output_type": "execute_result"
    }
   ],
   "source": [
    "# DICTIONARY\n",
    "student = {\"name\": \"John\", \"age\": 25, \"city\": \"New York\"}\n",
    "# access single feature\n",
    "print(student[\"name\"])  # Output: John\n",
    "# access whole feature\n",
    "student\n"
   ]
  },
  {
   "cell_type": "code",
   "execution_count": 211,
   "metadata": {},
   "outputs": [
    {
     "name": "stdout",
     "output_type": "stream",
     "text": [
      "name : John\n",
      "age : 25\n",
      "city : New York\n"
     ]
    }
   ],
   "source": [
    "# DICTIONARY\n",
    "student = {\"name\": \"John\", \"age\": 25, \"city\": \"New York\"}\n",
    "# features = key\n",
    "# value = record fron feature\n",
    "for key, value in student.items():\n",
    "    print(key, \":\", value)\n"
   ]
  },
  {
   "cell_type": "code",
   "execution_count": 213,
   "metadata": {},
   "outputs": [
    {
     "name": "stdout",
     "output_type": "stream",
     "text": [
      "Key exists!\n"
     ]
    }
   ],
   "source": [
    "# DICTIONARY\n",
    "student = {\"name\": \"John\", \"age\": 25, \"city\": \"New York\"}\n",
    "if \"name\" in student:\n",
    "    print(\"Key exists!\")\n"
   ]
  },
  {
   "cell_type": "code",
   "execution_count": 216,
   "metadata": {},
   "outputs": [
    {
     "name": "stdout",
     "output_type": "stream",
     "text": [
      "Value exists!\n"
     ]
    }
   ],
   "source": [
    "# DICTIONARY\n",
    "student = {\"name\": \"John\", \"age\": 25, \"city\": \"New York\"}\n",
    "if \"John\" in student.values():\n",
    "    print(\"Value exists!\")  # Output: Value exists!\n"
   ]
  },
  {
   "cell_type": "code",
   "execution_count": 217,
   "metadata": {},
   "outputs": [
    {
     "name": "stdout",
     "output_type": "stream",
     "text": [
      "3\n"
     ]
    }
   ],
   "source": [
    "# DICTIONARY\n",
    "student = {\"name\": \"John\", \"age\": 25, \"city\": \"New York\"}\n",
    "print(len(student))\n"
   ]
  },
  {
   "cell_type": "code",
   "execution_count": 219,
   "metadata": {},
   "outputs": [
    {
     "data": {
      "text/plain": [
       "{'name': 'John', 'age': 25, 'city': 'New York', 'course': 'AI'}"
      ]
     },
     "execution_count": 219,
     "metadata": {},
     "output_type": "execute_result"
    }
   ],
   "source": [
    "# DICTIONARY\n",
    "student = {\"name\": \"John\", \"age\": 25, \"city\": \"New York\"}\n",
    "student[\"course\"] = \"AI\"\n",
    "student\n"
   ]
  },
  {
   "cell_type": "code",
   "execution_count": 223,
   "metadata": {},
   "outputs": [
    {
     "name": "stdout",
     "output_type": "stream",
     "text": [
      "Original dict: {'name': 'John', 'age': 25, 'city': 'New York'}\n",
      "Copy of Dict:  {'name': 'John', 'age': 25, 'city': 'New York'}\n"
     ]
    }
   ],
   "source": [
    "# DICTIONARY\n",
    "student = {\"name\": \"John\", \"age\": 25, \"city\": \"New York\"}\n",
    "print(f\"Original dict: {student}\")\n",
    "new_dict = student.copy()\n",
    "print(f\"Copy of Dict:  {new_dict}\")\n"
   ]
  },
  {
   "cell_type": "code",
   "execution_count": 225,
   "metadata": {},
   "outputs": [
    {
     "data": {
      "text/plain": [
       "{'student1': {'name': 'Alice', 'age': 22},\n",
       " 'student2': {'name': 'Bob', 'age': 23}}"
      ]
     },
     "execution_count": 225,
     "metadata": {},
     "output_type": "execute_result"
    }
   ],
   "source": [
    "university = {\n",
    "    \"student1\": {\"name\": \"Alice\", \"age\": 22},\n",
    "    \"student2\": {\"name\": \"Bob\", \"age\": 23}\n",
    "}\n",
    "university\n"
   ]
  },
  {
   "cell_type": "code",
   "execution_count": 226,
   "metadata": {},
   "outputs": [
    {
     "name": "stdout",
     "output_type": "stream",
     "text": [
      "John\n",
      "22\n"
     ]
    }
   ],
   "source": [
    "students = {\n",
    "    \"student1\": {\"name\": \"John\", \"age\": 25, \"city\": \"New York\"},\n",
    "    \"student2\": {\"name\": \"Emma\", \"age\": 22, \"city\": \"Los Angeles\"},\n",
    "    \"student3\": {\"name\": \"Mike\", \"age\": 24, \"city\": \"Chicago\"}\n",
    "}\n",
    "\n",
    "print(students[\"student1\"][\"name\"])  # Output: John\n",
    "print(students[\"student2\"][\"age\"])   # Output: 22\n"
   ]
  },
  {
   "cell_type": "code",
   "execution_count": 233,
   "metadata": {},
   "outputs": [
    {
     "data": {
      "text/plain": [
       "{'name': 'Alice', 'age': 22, 'city': 'Paris', 'dob': '01-10-2022'}"
      ]
     },
     "execution_count": 233,
     "metadata": {},
     "output_type": "execute_result"
    }
   ],
   "source": [
    "my_dict = dict(name=\"Alice\", age=22, city=\"Paris\",dob='01-10-2022')\n",
    "my_dict"
   ]
  },
  {
   "cell_type": "code",
   "execution_count": 235,
   "metadata": {},
   "outputs": [
    {
     "name": "stdout",
     "output_type": "stream",
     "text": [
      "dict_keys(['name', 'age', 'city'])\n",
      "dict_values(['John', 25, 'New York'])\n"
     ]
    }
   ],
   "source": [
    "student = {\"name\": \"John\", \"age\": 25, \"city\": \"New York\"}\n",
    "print(student.keys())\n",
    "print(student.values())\n"
   ]
  },
  {
   "cell_type": "code",
   "execution_count": 236,
   "metadata": {},
   "outputs": [
    {
     "name": "stdout",
     "output_type": "stream",
     "text": [
      "name: John\n",
      "age: 25\n",
      "city: New York\n"
     ]
    }
   ],
   "source": [
    "student = {\"name\": \"John\", \"age\": 25, \"city\": \"New York\"}\n",
    "\n",
    "for key, value in student.items():\n",
    "    print(f\"{key}: {value}\")\n"
   ]
  },
  {
   "cell_type": "code",
   "execution_count": 237,
   "metadata": {},
   "outputs": [
    {
     "name": "stdout",
     "output_type": "stream",
     "text": [
      "John\n",
      "Not Found\n"
     ]
    }
   ],
   "source": [
    "student = {\"name\": \"John\", \"age\": 25, \"city\": \"New York\"}\n",
    "\n",
    "print(student.get(\"name\"))  # Output: John\n",
    "print(student.get(\"country\", \"Not Found\"))  # Output: Not Found\n"
   ]
  },
  {
   "cell_type": "code",
   "execution_count": 238,
   "metadata": {},
   "outputs": [
    {
     "name": "stdout",
     "output_type": "stream",
     "text": [
      "25\n",
      "{'name': 'John', 'city': 'New York'}\n"
     ]
    }
   ],
   "source": [
    "student = {\"name\": \"John\", \"age\": 25, \"city\": \"New York\"}\n",
    "\n",
    "removed_value = student.pop(\"age\")  \n",
    "print(removed_value)  # Output: 25\n",
    "print(student)  # Output: {'name': 'John', 'city': 'New York'}\n"
   ]
  },
  {
   "cell_type": "code",
   "execution_count": null,
   "metadata": {},
   "outputs": [],
   "source": []
  }
 ],
 "metadata": {
  "kernelspec": {
   "display_name": "Python 3",
   "language": "python",
   "name": "python3"
  },
  "language_info": {
   "codemirror_mode": {
    "name": "ipython",
    "version": 3
   },
   "file_extension": ".py",
   "mimetype": "text/x-python",
   "name": "python",
   "nbconvert_exporter": "python",
   "pygments_lexer": "ipython3",
   "version": "3.13.1"
  }
 },
 "nbformat": 4,
 "nbformat_minor": 2
}
